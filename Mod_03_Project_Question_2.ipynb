{
 "cells": [
  {
   "cell_type": "markdown",
   "metadata": {},
   "source": [
    "<a id='top'></a>"
   ]
  },
  {
   "cell_type": "markdown",
   "metadata": {},
   "source": [
    "# Does the English Premier League win at home more than the Rest of Europe?"
   ]
  },
  {
   "cell_type": "markdown",
   "metadata": {},
   "source": [
    "## Introduction\n",
    "\n",
    "Throughout this notebook to perform our Hypothesis Testing Analysis we will:\n",
    "\n",
    "- [Make an Observation](#Observation)\n",
    "- [Form a Hypothesis](#Hypothesis-Formulation)\n",
    "- [Conduct an Experiment](#Experiment)\n",
    "- [Analyze the Results of the Experiment](#Analysis)\n",
    "- [Draw Conclusions](#Conclusions)"
   ]
  },
  {
   "cell_type": "markdown",
   "metadata": {},
   "source": [
    "## Observation\n",
    "\n",
    "The English Premier Leauge is widely considered the [best European Soccer League.](https://thetopflight.com/2019/05/10/premier-league-europes-dominant-force/) It is certainly the most lucrative soccer league in Europe with revenues reaching a [record £5.8 billion ($7.3 billion) in revenue during the 2017/18 season.](https://www.cnbc.com/2019/05/30/european-soccer-posts-record-revenues-as-epl-dominates-deloitte.html) This huge influx in money should mean an increase in winning, especially at home, with the English Premier League winning more at home than the rest of Europe.\n"
   ]
  },
  {
   "cell_type": "markdown",
   "metadata": {},
   "source": [
    "## Hypothesis Formulation\n",
    "We form our Hypothesis based off our observation:\n",
    "\n",
    "### Null Hypothesis\n",
    ">**$H_{0}$ : There is no difference in Home Win Percentage between the English Premier League and the rest of Europe**\n",
    "\n",
    "$${\\large \\bar{x}} = \\large \\mu$$\n",
    "\n",
    "### Alternate Hypothesis\n",
    ">**$H_{a}$ : The English Premier League has a higher Home Win Percentage than the rest of Europe**\n",
    "\n",
    "$${\\large \\bar{x}} > \\large \\mu$$\n"
   ]
  },
  {
   "cell_type": "markdown",
   "metadata": {},
   "source": [
    "<a href=\"#top\">Back to top</a>"
   ]
  },
  {
   "cell_type": "markdown",
   "metadata": {},
   "source": [
    "## Experiment\n",
    "This experiment comes from Hugo Mathien who [collected the data](https://www.kaggle.com/hugomathien/soccer) which is used in this notebook. This database contains over 25,000 matches collected from Season 2008 through 2016. The data we used contains:"
   ]
  },
  {
   "cell_type": "markdown",
   "metadata": {},
   "source": [
    "|Table | Total Rows | Total Columns | Columns (edited for relevance)|\n",
    "|----------|:-----------:|:----------:|----------|\n",
    "Country | 11 | 2 | id, name\n",
    "League | 11 | 3 | id, country_id, name\n",
    "Match | 25979 | 115 | id, country_id, league_id, season, stage, date, match_api_id, home_team_api_id, away_team_api_id, home_team_goal, away_team_goal, (others)\n",
    "Team | 299 | 5 | id, team_api_id, team_fifa_api_id, team_long_name, team_short_name"
   ]
  },
  {
   "cell_type": "markdown",
   "metadata": {},
   "source": [
    "<br><br>\n",
    "<a href=\"#top\">Back to top</a>"
   ]
  },
  {
   "cell_type": "markdown",
   "metadata": {},
   "source": [
    "## Analysis\n"
   ]
  },
  {
   "cell_type": "markdown",
   "metadata": {},
   "source": [
    "<br><br>\n",
    "<a href=\"#top\">Back to top</a>"
   ]
  },
  {
   "cell_type": "code",
   "execution_count": 49,
   "metadata": {},
   "outputs": [],
   "source": [
    "# Import Necessary Libraries\n",
    "import sqlite3\n",
    "import pandas as pd\n",
    "import numpy as np\n",
    "from matplotlib import pyplot as plt\n",
    "from datetime import datetime\n",
    "import scipy.stats as stats\n",
    "import seaborn as sns\n",
    "\n",
    "from functions import *"
   ]
  },
  {
   "cell_type": "markdown",
   "metadata": {},
   "source": [
    "Begin with some Exploratory Data Analysis."
   ]
  },
  {
   "cell_type": "code",
   "execution_count": 2,
   "metadata": {},
   "outputs": [
    {
     "data": {
      "text/html": [
       "<div>\n",
       "<style scoped>\n",
       "    .dataframe tbody tr th:only-of-type {\n",
       "        vertical-align: middle;\n",
       "    }\n",
       "\n",
       "    .dataframe tbody tr th {\n",
       "        vertical-align: top;\n",
       "    }\n",
       "\n",
       "    .dataframe thead th {\n",
       "        text-align: right;\n",
       "    }\n",
       "</style>\n",
       "<table border=\"1\" class=\"dataframe\">\n",
       "  <thead>\n",
       "    <tr style=\"text-align: right;\">\n",
       "      <th></th>\n",
       "      <th>id</th>\n",
       "      <th>country_name</th>\n",
       "      <th>league_name</th>\n",
       "      <th>season</th>\n",
       "      <th>stage</th>\n",
       "      <th>date</th>\n",
       "      <th>home_team</th>\n",
       "      <th>away_team</th>\n",
       "      <th>home_team_goal</th>\n",
       "      <th>away_team_goal</th>\n",
       "    </tr>\n",
       "  </thead>\n",
       "  <tbody>\n",
       "    <tr>\n",
       "      <th>0</th>\n",
       "      <td>24559</td>\n",
       "      <td>Switzerland</td>\n",
       "      <td>Switzerland Super League</td>\n",
       "      <td>2008/2009</td>\n",
       "      <td>1</td>\n",
       "      <td>2008-07-18 00:00:00</td>\n",
       "      <td>BSC Young Boys</td>\n",
       "      <td>FC Basel</td>\n",
       "      <td>1</td>\n",
       "      <td>2</td>\n",
       "    </tr>\n",
       "    <tr>\n",
       "      <th>1</th>\n",
       "      <td>24560</td>\n",
       "      <td>Switzerland</td>\n",
       "      <td>Switzerland Super League</td>\n",
       "      <td>2008/2009</td>\n",
       "      <td>1</td>\n",
       "      <td>2008-07-19 00:00:00</td>\n",
       "      <td>FC Aarau</td>\n",
       "      <td>FC Sion</td>\n",
       "      <td>3</td>\n",
       "      <td>1</td>\n",
       "    </tr>\n",
       "    <tr>\n",
       "      <th>2</th>\n",
       "      <td>24561</td>\n",
       "      <td>Switzerland</td>\n",
       "      <td>Switzerland Super League</td>\n",
       "      <td>2008/2009</td>\n",
       "      <td>1</td>\n",
       "      <td>2008-07-20 00:00:00</td>\n",
       "      <td>FC Luzern</td>\n",
       "      <td>FC Vaduz</td>\n",
       "      <td>1</td>\n",
       "      <td>2</td>\n",
       "    </tr>\n",
       "    <tr>\n",
       "      <th>3</th>\n",
       "      <td>24562</td>\n",
       "      <td>Switzerland</td>\n",
       "      <td>Switzerland Super League</td>\n",
       "      <td>2008/2009</td>\n",
       "      <td>1</td>\n",
       "      <td>2008-07-20 00:00:00</td>\n",
       "      <td>Neuchâtel Xamax</td>\n",
       "      <td>FC Zürich</td>\n",
       "      <td>1</td>\n",
       "      <td>2</td>\n",
       "    </tr>\n",
       "    <tr>\n",
       "      <th>4</th>\n",
       "      <td>24613</td>\n",
       "      <td>Switzerland</td>\n",
       "      <td>Switzerland Super League</td>\n",
       "      <td>2008/2009</td>\n",
       "      <td>2</td>\n",
       "      <td>2008-07-23 00:00:00</td>\n",
       "      <td>FC Basel</td>\n",
       "      <td>Grasshopper Club Zürich</td>\n",
       "      <td>1</td>\n",
       "      <td>0</td>\n",
       "    </tr>\n",
       "  </tbody>\n",
       "</table>\n",
       "</div>"
      ],
      "text/plain": [
       "      id country_name               league_name     season  stage  \\\n",
       "0  24559  Switzerland  Switzerland Super League  2008/2009      1   \n",
       "1  24560  Switzerland  Switzerland Super League  2008/2009      1   \n",
       "2  24561  Switzerland  Switzerland Super League  2008/2009      1   \n",
       "3  24562  Switzerland  Switzerland Super League  2008/2009      1   \n",
       "4  24613  Switzerland  Switzerland Super League  2008/2009      2   \n",
       "\n",
       "                  date        home_team                away_team  \\\n",
       "0  2008-07-18 00:00:00   BSC Young Boys                 FC Basel   \n",
       "1  2008-07-19 00:00:00         FC Aarau                  FC Sion   \n",
       "2  2008-07-20 00:00:00        FC Luzern                 FC Vaduz   \n",
       "3  2008-07-20 00:00:00  Neuchâtel Xamax                FC Zürich   \n",
       "4  2008-07-23 00:00:00         FC Basel  Grasshopper Club Zürich   \n",
       "\n",
       "   home_team_goal  away_team_goal  \n",
       "0               1               2  \n",
       "1               3               1  \n",
       "2               1               2  \n",
       "3               1               2  \n",
       "4               1               0  "
      ]
     },
     "execution_count": 2,
     "metadata": {},
     "output_type": "execute_result"
    }
   ],
   "source": [
    "#Connecting our table using the SQL Database\n",
    "\n",
    "sql_match = \"\"\"\n",
    "            SELECT Match.id, \n",
    "                    Country.name AS country_name, \n",
    "                    League.name AS league_name, \n",
    "                    season, \n",
    "                    stage, \n",
    "                    date,\n",
    "                    HT.team_long_name AS  home_team,\n",
    "                    AT.team_long_name AS away_team,\n",
    "                    home_team_goal, \n",
    "                    away_team_goal                                        \n",
    "            FROM Match\n",
    "            JOIN Country on Country.id = Match.country_id\n",
    "            JOIN League on League.id = Match.league_id\n",
    "            LEFT JOIN Team AS HT on HT.team_api_id = Match.home_team_api_id\n",
    "            LEFT JOIN Team AS AT on AT.team_api_id = Match.away_team_api_id\n",
    "            ORDER by date\n",
    "        ;\"\"\"\n",
    "\n",
    "#Connecting to Database and Creating Table using a function from our functions.py file\n",
    "\n",
    "df_matches = make_sql_frame(sql_match)\n",
    "df_matches.head()"
   ]
  },
  {
   "cell_type": "markdown",
   "metadata": {},
   "source": [
    "Need to check if there is any missing data in our tables."
   ]
  },
  {
   "cell_type": "code",
   "execution_count": 3,
   "metadata": {},
   "outputs": [
    {
     "name": "stdout",
     "output_type": "stream",
     "text": [
      "<class 'pandas.core.frame.DataFrame'>\n",
      "RangeIndex: 25979 entries, 0 to 25978\n",
      "Data columns (total 10 columns):\n",
      "id                25979 non-null int64\n",
      "country_name      25979 non-null object\n",
      "league_name       25979 non-null object\n",
      "season            25979 non-null object\n",
      "stage             25979 non-null int64\n",
      "date              25979 non-null object\n",
      "home_team         25979 non-null object\n",
      "away_team         25979 non-null object\n",
      "home_team_goal    25979 non-null int64\n",
      "away_team_goal    25979 non-null int64\n",
      "dtypes: int64(4), object(6)\n",
      "memory usage: 2.0+ MB\n"
     ]
    }
   ],
   "source": [
    "df_matches.info()"
   ]
  },
  {
   "cell_type": "markdown",
   "metadata": {},
   "source": [
    "No missing values, we can move on to finding our Win Percentages."
   ]
  },
  {
   "cell_type": "code",
   "execution_count": 4,
   "metadata": {},
   "outputs": [
    {
     "data": {
      "text/html": [
       "<div>\n",
       "<style scoped>\n",
       "    .dataframe tbody tr th:only-of-type {\n",
       "        vertical-align: middle;\n",
       "    }\n",
       "\n",
       "    .dataframe tbody tr th {\n",
       "        vertical-align: top;\n",
       "    }\n",
       "\n",
       "    .dataframe thead th {\n",
       "        text-align: right;\n",
       "    }\n",
       "</style>\n",
       "<table border=\"1\" class=\"dataframe\">\n",
       "  <thead>\n",
       "    <tr style=\"text-align: right;\">\n",
       "      <th></th>\n",
       "      <th>id</th>\n",
       "      <th>country_name</th>\n",
       "      <th>league_name</th>\n",
       "      <th>season</th>\n",
       "      <th>stage</th>\n",
       "      <th>date</th>\n",
       "      <th>home_team</th>\n",
       "      <th>away_team</th>\n",
       "      <th>home_team_goal</th>\n",
       "      <th>away_team_goal</th>\n",
       "      <th>HomeWin</th>\n",
       "      <th>AwayWin</th>\n",
       "      <th>Draw</th>\n",
       "    </tr>\n",
       "  </thead>\n",
       "  <tbody>\n",
       "    <tr>\n",
       "      <th>0</th>\n",
       "      <td>24559</td>\n",
       "      <td>Switzerland</td>\n",
       "      <td>Switzerland Super League</td>\n",
       "      <td>2008/2009</td>\n",
       "      <td>1</td>\n",
       "      <td>2008-07-18 00:00:00</td>\n",
       "      <td>BSC Young Boys</td>\n",
       "      <td>FC Basel</td>\n",
       "      <td>1</td>\n",
       "      <td>2</td>\n",
       "      <td>0</td>\n",
       "      <td>1</td>\n",
       "      <td>0</td>\n",
       "    </tr>\n",
       "    <tr>\n",
       "      <th>1</th>\n",
       "      <td>24560</td>\n",
       "      <td>Switzerland</td>\n",
       "      <td>Switzerland Super League</td>\n",
       "      <td>2008/2009</td>\n",
       "      <td>1</td>\n",
       "      <td>2008-07-19 00:00:00</td>\n",
       "      <td>FC Aarau</td>\n",
       "      <td>FC Sion</td>\n",
       "      <td>3</td>\n",
       "      <td>1</td>\n",
       "      <td>1</td>\n",
       "      <td>0</td>\n",
       "      <td>0</td>\n",
       "    </tr>\n",
       "    <tr>\n",
       "      <th>2</th>\n",
       "      <td>24561</td>\n",
       "      <td>Switzerland</td>\n",
       "      <td>Switzerland Super League</td>\n",
       "      <td>2008/2009</td>\n",
       "      <td>1</td>\n",
       "      <td>2008-07-20 00:00:00</td>\n",
       "      <td>FC Luzern</td>\n",
       "      <td>FC Vaduz</td>\n",
       "      <td>1</td>\n",
       "      <td>2</td>\n",
       "      <td>0</td>\n",
       "      <td>1</td>\n",
       "      <td>0</td>\n",
       "    </tr>\n",
       "    <tr>\n",
       "      <th>3</th>\n",
       "      <td>24562</td>\n",
       "      <td>Switzerland</td>\n",
       "      <td>Switzerland Super League</td>\n",
       "      <td>2008/2009</td>\n",
       "      <td>1</td>\n",
       "      <td>2008-07-20 00:00:00</td>\n",
       "      <td>Neuchâtel Xamax</td>\n",
       "      <td>FC Zürich</td>\n",
       "      <td>1</td>\n",
       "      <td>2</td>\n",
       "      <td>0</td>\n",
       "      <td>1</td>\n",
       "      <td>0</td>\n",
       "    </tr>\n",
       "    <tr>\n",
       "      <th>4</th>\n",
       "      <td>24613</td>\n",
       "      <td>Switzerland</td>\n",
       "      <td>Switzerland Super League</td>\n",
       "      <td>2008/2009</td>\n",
       "      <td>2</td>\n",
       "      <td>2008-07-23 00:00:00</td>\n",
       "      <td>FC Basel</td>\n",
       "      <td>Grasshopper Club Zürich</td>\n",
       "      <td>1</td>\n",
       "      <td>0</td>\n",
       "      <td>1</td>\n",
       "      <td>0</td>\n",
       "      <td>0</td>\n",
       "    </tr>\n",
       "  </tbody>\n",
       "</table>\n",
       "</div>"
      ],
      "text/plain": [
       "      id country_name               league_name     season  stage  \\\n",
       "0  24559  Switzerland  Switzerland Super League  2008/2009      1   \n",
       "1  24560  Switzerland  Switzerland Super League  2008/2009      1   \n",
       "2  24561  Switzerland  Switzerland Super League  2008/2009      1   \n",
       "3  24562  Switzerland  Switzerland Super League  2008/2009      1   \n",
       "4  24613  Switzerland  Switzerland Super League  2008/2009      2   \n",
       "\n",
       "                  date        home_team                away_team  \\\n",
       "0  2008-07-18 00:00:00   BSC Young Boys                 FC Basel   \n",
       "1  2008-07-19 00:00:00         FC Aarau                  FC Sion   \n",
       "2  2008-07-20 00:00:00        FC Luzern                 FC Vaduz   \n",
       "3  2008-07-20 00:00:00  Neuchâtel Xamax                FC Zürich   \n",
       "4  2008-07-23 00:00:00         FC Basel  Grasshopper Club Zürich   \n",
       "\n",
       "   home_team_goal  away_team_goal  HomeWin  AwayWin  Draw  \n",
       "0               1               2        0        1     0  \n",
       "1               3               1        1        0     0  \n",
       "2               1               2        0        1     0  \n",
       "3               1               2        0        1     0  \n",
       "4               1               0        1        0     0  "
      ]
     },
     "execution_count": 4,
     "metadata": {},
     "output_type": "execute_result"
    }
   ],
   "source": [
    "#Determining Results of all our Matches by checking goals scored for each Match\n",
    "\n",
    "df_matches = add_results(df_matches)\n",
    "df_matches.head()"
   ]
  },
  {
   "cell_type": "code",
   "execution_count": 5,
   "metadata": {},
   "outputs": [
    {
     "name": "stdout",
     "output_type": "stream",
     "text": [
      "(296, 14)\n"
     ]
    },
    {
     "data": {
      "text/html": [
       "<div>\n",
       "<style scoped>\n",
       "    .dataframe tbody tr th:only-of-type {\n",
       "        vertical-align: middle;\n",
       "    }\n",
       "\n",
       "    .dataframe tbody tr th {\n",
       "        vertical-align: top;\n",
       "    }\n",
       "\n",
       "    .dataframe thead th {\n",
       "        text-align: right;\n",
       "    }\n",
       "</style>\n",
       "<table border=\"1\" class=\"dataframe\">\n",
       "  <thead>\n",
       "    <tr style=\"text-align: right;\">\n",
       "      <th></th>\n",
       "      <th>TeamName</th>\n",
       "      <th>HomeWin</th>\n",
       "      <th>HomeLoss</th>\n",
       "      <th>HomeDraw</th>\n",
       "      <th>HomeWinPct</th>\n",
       "      <th>AwayLoss</th>\n",
       "      <th>AwayWin</th>\n",
       "      <th>AwayDraw</th>\n",
       "      <th>AwayWinPct</th>\n",
       "      <th>TotalWins</th>\n",
       "      <th>TotalLosses</th>\n",
       "      <th>TotalDraws</th>\n",
       "      <th>GamesPlayed</th>\n",
       "      <th>TotalWinPct</th>\n",
       "    </tr>\n",
       "  </thead>\n",
       "  <tbody>\n",
       "    <tr>\n",
       "      <th>0</th>\n",
       "      <td>1. FC Kaiserslautern</td>\n",
       "      <td>8</td>\n",
       "      <td>15</td>\n",
       "      <td>11</td>\n",
       "      <td>0.235294</td>\n",
       "      <td>18</td>\n",
       "      <td>9</td>\n",
       "      <td>7</td>\n",
       "      <td>0.264706</td>\n",
       "      <td>17</td>\n",
       "      <td>33</td>\n",
       "      <td>18</td>\n",
       "      <td>68</td>\n",
       "      <td>0.250000</td>\n",
       "    </tr>\n",
       "    <tr>\n",
       "      <th>1</th>\n",
       "      <td>1. FC Köln</td>\n",
       "      <td>32</td>\n",
       "      <td>39</td>\n",
       "      <td>31</td>\n",
       "      <td>0.313725</td>\n",
       "      <td>51</td>\n",
       "      <td>28</td>\n",
       "      <td>23</td>\n",
       "      <td>0.274510</td>\n",
       "      <td>60</td>\n",
       "      <td>90</td>\n",
       "      <td>54</td>\n",
       "      <td>204</td>\n",
       "      <td>0.294118</td>\n",
       "    </tr>\n",
       "    <tr>\n",
       "      <th>2</th>\n",
       "      <td>1. FC Nürnberg</td>\n",
       "      <td>30</td>\n",
       "      <td>34</td>\n",
       "      <td>21</td>\n",
       "      <td>0.352941</td>\n",
       "      <td>44</td>\n",
       "      <td>19</td>\n",
       "      <td>22</td>\n",
       "      <td>0.223529</td>\n",
       "      <td>49</td>\n",
       "      <td>78</td>\n",
       "      <td>43</td>\n",
       "      <td>170</td>\n",
       "      <td>0.288235</td>\n",
       "    </tr>\n",
       "    <tr>\n",
       "      <th>3</th>\n",
       "      <td>1. FSV Mainz 05</td>\n",
       "      <td>55</td>\n",
       "      <td>35</td>\n",
       "      <td>29</td>\n",
       "      <td>0.462185</td>\n",
       "      <td>50</td>\n",
       "      <td>33</td>\n",
       "      <td>36</td>\n",
       "      <td>0.277311</td>\n",
       "      <td>88</td>\n",
       "      <td>85</td>\n",
       "      <td>65</td>\n",
       "      <td>238</td>\n",
       "      <td>0.369748</td>\n",
       "    </tr>\n",
       "    <tr>\n",
       "      <th>4</th>\n",
       "      <td>AC Ajaccio</td>\n",
       "      <td>16</td>\n",
       "      <td>22</td>\n",
       "      <td>19</td>\n",
       "      <td>0.280702</td>\n",
       "      <td>30</td>\n",
       "      <td>6</td>\n",
       "      <td>21</td>\n",
       "      <td>0.105263</td>\n",
       "      <td>22</td>\n",
       "      <td>52</td>\n",
       "      <td>40</td>\n",
       "      <td>114</td>\n",
       "      <td>0.192982</td>\n",
       "    </tr>\n",
       "  </tbody>\n",
       "</table>\n",
       "</div>"
      ],
      "text/plain": [
       "               TeamName  HomeWin  HomeLoss  HomeDraw  HomeWinPct  AwayLoss  \\\n",
       "0  1. FC Kaiserslautern        8        15        11    0.235294        18   \n",
       "1            1. FC Köln       32        39        31    0.313725        51   \n",
       "2        1. FC Nürnberg       30        34        21    0.352941        44   \n",
       "3       1. FSV Mainz 05       55        35        29    0.462185        50   \n",
       "4            AC Ajaccio       16        22        19    0.280702        30   \n",
       "\n",
       "   AwayWin  AwayDraw  AwayWinPct  TotalWins  TotalLosses  TotalDraws  \\\n",
       "0        9         7    0.264706         17           33          18   \n",
       "1       28        23    0.274510         60           90          54   \n",
       "2       19        22    0.223529         49           78          43   \n",
       "3       33        36    0.277311         88           85          65   \n",
       "4        6        21    0.105263         22           52          40   \n",
       "\n",
       "   GamesPlayed  TotalWinPct  \n",
       "0           68     0.250000  \n",
       "1          204     0.294118  \n",
       "2          170     0.288235  \n",
       "3          238     0.369748  \n",
       "4          114     0.192982  "
      ]
     },
     "execution_count": 5,
     "metadata": {},
     "output_type": "execute_result"
    }
   ],
   "source": [
    "# Aggregating our data and organizing by Team\n",
    "\n",
    "df_results = calc_wins(df_matches)\n",
    "print(df_results.shape)\n",
    "df_results.head()"
   ]
  },
  {
   "cell_type": "markdown",
   "metadata": {},
   "source": [
    "We now have all the data for all of the European matches, our Population Data. <br>\n",
    "Let's find our sample only the data from the English Premier League."
   ]
  },
  {
   "cell_type": "code",
   "execution_count": 6,
   "metadata": {},
   "outputs": [
    {
     "data": {
      "text/html": [
       "<div>\n",
       "<style scoped>\n",
       "    .dataframe tbody tr th:only-of-type {\n",
       "        vertical-align: middle;\n",
       "    }\n",
       "\n",
       "    .dataframe tbody tr th {\n",
       "        vertical-align: top;\n",
       "    }\n",
       "\n",
       "    .dataframe thead th {\n",
       "        text-align: right;\n",
       "    }\n",
       "</style>\n",
       "<table border=\"1\" class=\"dataframe\">\n",
       "  <thead>\n",
       "    <tr style=\"text-align: right;\">\n",
       "      <th></th>\n",
       "      <th>TeamName</th>\n",
       "      <th>HomeWin</th>\n",
       "      <th>HomeLoss</th>\n",
       "      <th>HomeDraw</th>\n",
       "      <th>HomeWinPct</th>\n",
       "      <th>AwayLoss</th>\n",
       "      <th>AwayWin</th>\n",
       "      <th>AwayDraw</th>\n",
       "      <th>AwayWinPct</th>\n",
       "      <th>TotalWins</th>\n",
       "      <th>TotalLosses</th>\n",
       "      <th>TotalDraws</th>\n",
       "      <th>GamesPlayed</th>\n",
       "      <th>TotalWinPct</th>\n",
       "    </tr>\n",
       "  </thead>\n",
       "  <tbody>\n",
       "    <tr>\n",
       "      <th>0</th>\n",
       "      <td>Arsenal</td>\n",
       "      <td>97</td>\n",
       "      <td>21</td>\n",
       "      <td>34</td>\n",
       "      <td>0.638158</td>\n",
       "      <td>40</td>\n",
       "      <td>73</td>\n",
       "      <td>39</td>\n",
       "      <td>0.480263</td>\n",
       "      <td>170</td>\n",
       "      <td>61</td>\n",
       "      <td>73</td>\n",
       "      <td>304</td>\n",
       "      <td>0.559211</td>\n",
       "    </tr>\n",
       "    <tr>\n",
       "      <th>1</th>\n",
       "      <td>Aston Villa</td>\n",
       "      <td>45</td>\n",
       "      <td>57</td>\n",
       "      <td>50</td>\n",
       "      <td>0.296053</td>\n",
       "      <td>73</td>\n",
       "      <td>41</td>\n",
       "      <td>38</td>\n",
       "      <td>0.269737</td>\n",
       "      <td>86</td>\n",
       "      <td>130</td>\n",
       "      <td>88</td>\n",
       "      <td>304</td>\n",
       "      <td>0.282895</td>\n",
       "    </tr>\n",
       "    <tr>\n",
       "      <th>2</th>\n",
       "      <td>Birmingham City</td>\n",
       "      <td>14</td>\n",
       "      <td>7</td>\n",
       "      <td>17</td>\n",
       "      <td>0.368421</td>\n",
       "      <td>22</td>\n",
       "      <td>7</td>\n",
       "      <td>9</td>\n",
       "      <td>0.184211</td>\n",
       "      <td>21</td>\n",
       "      <td>29</td>\n",
       "      <td>26</td>\n",
       "      <td>76</td>\n",
       "      <td>0.276316</td>\n",
       "    </tr>\n",
       "    <tr>\n",
       "      <th>3</th>\n",
       "      <td>Blackburn Rovers</td>\n",
       "      <td>29</td>\n",
       "      <td>26</td>\n",
       "      <td>21</td>\n",
       "      <td>0.381579</td>\n",
       "      <td>45</td>\n",
       "      <td>13</td>\n",
       "      <td>18</td>\n",
       "      <td>0.171053</td>\n",
       "      <td>42</td>\n",
       "      <td>71</td>\n",
       "      <td>39</td>\n",
       "      <td>152</td>\n",
       "      <td>0.276316</td>\n",
       "    </tr>\n",
       "    <tr>\n",
       "      <th>4</th>\n",
       "      <td>Blackpool</td>\n",
       "      <td>5</td>\n",
       "      <td>9</td>\n",
       "      <td>5</td>\n",
       "      <td>0.263158</td>\n",
       "      <td>10</td>\n",
       "      <td>5</td>\n",
       "      <td>4</td>\n",
       "      <td>0.263158</td>\n",
       "      <td>10</td>\n",
       "      <td>19</td>\n",
       "      <td>9</td>\n",
       "      <td>38</td>\n",
       "      <td>0.263158</td>\n",
       "    </tr>\n",
       "  </tbody>\n",
       "</table>\n",
       "</div>"
      ],
      "text/plain": [
       "           TeamName  HomeWin  HomeLoss  HomeDraw  HomeWinPct  AwayLoss  \\\n",
       "0           Arsenal       97        21        34    0.638158        40   \n",
       "1       Aston Villa       45        57        50    0.296053        73   \n",
       "2   Birmingham City       14         7        17    0.368421        22   \n",
       "3  Blackburn Rovers       29        26        21    0.381579        45   \n",
       "4         Blackpool        5         9         5    0.263158        10   \n",
       "\n",
       "   AwayWin  AwayDraw  AwayWinPct  TotalWins  TotalLosses  TotalDraws  \\\n",
       "0       73        39    0.480263        170           61          73   \n",
       "1       41        38    0.269737         86          130          88   \n",
       "2        7         9    0.184211         21           29          26   \n",
       "3       13        18    0.171053         42           71          39   \n",
       "4        5         4    0.263158         10           19           9   \n",
       "\n",
       "   GamesPlayed  TotalWinPct  \n",
       "0          304     0.559211  \n",
       "1          304     0.282895  \n",
       "2           76     0.276316  \n",
       "3          152     0.276316  \n",
       "4           38     0.263158  "
      ]
     },
     "execution_count": 6,
     "metadata": {},
     "output_type": "execute_result"
    }
   ],
   "source": [
    "#Finding only the Matches from the English Premier League in our df_matches table\n",
    "df_england = df_matches.loc[df_matches['country_name'] == \"England\"]\n",
    "\n",
    "#Aggregating all the wins/losses to calculate Win Percentages for our English Teams\n",
    "df_england_wins = calc_wins(df_england)\n",
    "df_england_wins.head()"
   ]
  },
  {
   "cell_type": "markdown",
   "metadata": {},
   "source": [
    "We have our population and sample data, the win percentages of all European games and just those of England respectively.\n",
    "<br><br><br>\n",
    "Let's look at the distribution of our data. We'll start by looking at European home win percentages."
   ]
  },
  {
   "cell_type": "code",
   "execution_count": 7,
   "metadata": {},
   "outputs": [
    {
     "data": {
      "image/png": "[encoded data removed]",
      "text/plain": [
       "<Figure size 432x288 with 1 Axes>"
      ]
     },
     "metadata": {},
     "output_type": "display_data"
    }
   ],
   "source": [
    "sns.set_style('darkgrid')\n",
    "plt.hist(df_results['HomeWinPct'], bins =50)\n",
    "plt.show()"
   ]
  },
  {
   "cell_type": "markdown",
   "metadata": {},
   "source": [
    "This looks pretty normally distributed, we can sample from this data and create a more normal distribution."
   ]
  },
  {
   "cell_type": "code",
   "execution_count": 88,
   "metadata": {},
   "outputs": [],
   "source": [
    "match_sample = [sample_mean(df_results['HomeWinPct'], 200) for i in range(20000)]"
   ]
  },
  {
   "cell_type": "code",
   "execution_count": 92,
   "metadata": {},
   "outputs": [
    {
     "data": {
      "image/png": "[encoded data removed]",
      "text/plain": [
       "<Figure size 432x288 with 1 Axes>"
      ]
     },
     "metadata": {},
     "output_type": "display_data"
    }
   ],
   "source": [
    "plt.figure()\n",
    "sns.set()\n",
    "plt.hist(match_sample, bins =50, alpha =.5, color = 'blue')\n",
    "plt.show()"
   ]
  },
  {
   "cell_type": "markdown",
   "metadata": {},
   "source": [
    "Let's check the accuracy of our sample by comparing the mean of our population vs the mean of this population sample."
   ]
  },
  {
   "cell_type": "code",
   "execution_count": 10,
   "metadata": {},
   "outputs": [
    {
     "name": "stdout",
     "output_type": "stream",
     "text": [
      "Population Mean:  0.40447319463900916\n",
      "Sample Mean:  0.4046519876172417\n",
      "Accuracy:  99.96\n"
     ]
    }
   ],
   "source": [
    "pop_mean = np.mean(match_sample)\n",
    "print(\"Population Mean: \", df_results.HomeWinPct.mean())\n",
    "print(\"Sample Mean: \", pop_mean)\n",
    "acc = 1 - (np.abs(np.mean(match_sample) - df_results.HomeWinPct.mean()) / df_results.HomeWinPct.mean())\n",
    "print(\"Accuracy: \", np.round(acc*100,2))"
   ]
  },
  {
   "cell_type": "markdown",
   "metadata": {},
   "source": [
    "Let's look at the data from the English Premier League next."
   ]
  },
  {
   "cell_type": "code",
   "execution_count": 96,
   "metadata": {},
   "outputs": [
    {
     "data": {
      "image/png": "[encoded data removed]",
      "text/plain": [
       "<Figure size 432x288 with 1 Axes>"
      ]
     },
     "metadata": {},
     "output_type": "display_data"
    }
   ],
   "source": [
    "sns.set_style('darkgrid')\n",
    "plt.hist(df_england_wins['HomeWinPct'], bins =17)\n",
    "plt.show()"
   ]
  },
  {
   "cell_type": "markdown",
   "metadata": {},
   "source": [
    "Let's do the same thing we did with our Population (European) data for our Sample (England) data and sample it to create a more normal distribution."
   ]
  },
  {
   "cell_type": "code",
   "execution_count": 102,
   "metadata": {},
   "outputs": [
    {
     "data": {
      "image/png": "[encoded data removed]",
      "text/plain": [
       "<Figure size 432x288 with 1 Axes>"
      ]
     },
     "metadata": {},
     "output_type": "display_data"
    }
   ],
   "source": [
    "england_sample = [sample_mean(df_england_wins['HomeWinPct'], 200) for i in range(20000)]\n",
    "plt.hist(england_sample, bins=50, alpha = .5, color = 'orange')\n",
    "plt.show()"
   ]
  },
  {
   "cell_type": "markdown",
   "metadata": {},
   "source": [
    "We'll check the accuracy as well to make sure our sample is an accurate representation"
   ]
  },
  {
   "cell_type": "code",
   "execution_count": 13,
   "metadata": {},
   "outputs": [
    {
     "name": "stdout",
     "output_type": "stream",
     "text": [
      "Population Mean:  0.40140793159369015\n",
      "Sample Mean:  0.4013377731829574\n",
      "Accuracy:  99.98\n"
     ]
    }
   ],
   "source": [
    "print(\"Population Mean: \", df_england_wins.HomeWinPct.mean())\n",
    "print(\"Sample Mean: \", np.mean(england_sample))\n",
    "acc_2 = 1 - (np.abs(np.mean(england_sample) - df_england_wins.HomeWinPct.mean()) / df_england_wins.HomeWinPct.mean())\n",
    "print(\"Accuracy: \", np.round(acc_2*100,2))"
   ]
  },
  {
   "cell_type": "markdown",
   "metadata": {},
   "source": [
    "Now that we have our two distributions, our sample sizes are pretty small so let's do a t-test.\n",
    "<br>\n",
    "<br>\n",
    "We'll begin by find our t-critical value using the scipy.stats library"
   ]
  },
  {
   "cell_type": "code",
   "execution_count": 104,
   "metadata": {},
   "outputs": [
    {
     "data": {
      "image/png": "[encoded data removed]",
      "text/plain": [
       "<Figure size 432x288 with 1 Axes>"
      ]
     },
     "metadata": {},
     "output_type": "display_data"
    }
   ],
   "source": [
    "plt.figure()\n",
    "plt.hist(match_sample, bins =50, alpha =.5, color = 'blue')\n",
    "plt.hist(england_sample, bins=50, alpha = .5, color = 'orange')\n",
    "plt.show()\n"
   ]
  },
  {
   "cell_type": "code",
   "execution_count": 14,
   "metadata": {},
   "outputs": [
    {
     "data": {
      "text/plain": [
       "1.65"
      ]
     },
     "execution_count": 14,
     "metadata": {},
     "output_type": "execute_result"
    }
   ],
   "source": [
    "#t-test\n",
    "#t critical value for 5% alpha\n",
    "t_crit_ = np.round(stats.t.ppf(1 - 0.05, df =295),3)\n",
    "t_crit_"
   ]
  },
  {
   "cell_type": "markdown",
   "metadata": {},
   "source": [
    "Next we'll calculate our t-value using the following formula:\n",
    "$$t = \\frac{\\bar{x}-\\mu}{\\frac{s}{\\sqrt{n}}}$$"
   ]
  },
  {
   "cell_type": "code",
   "execution_count": 15,
   "metadata": {},
   "outputs": [
    {
     "data": {
      "text/plain": [
       "-10.472218490507954"
      ]
     },
     "execution_count": 15,
     "metadata": {},
     "output_type": "execute_result"
    }
   ],
   "source": [
    "t_value = (np.mean(england_sample) - pop_mean)/(np.std(england_sample) / np.sqrt(len(england_sample)))\n",
    "t_value"
   ]
  },
  {
   "cell_type": "code",
   "execution_count": 16,
   "metadata": {},
   "outputs": [
    {
     "data": {
      "text/plain": [
       "Ttest_1sampResult(statistic=-10.471956681773042, pvalue=1.3536182994035985e-25)"
      ]
     },
     "execution_count": 16,
     "metadata": {},
     "output_type": "execute_result"
    }
   ],
   "source": [
    "t_value_ = stats.ttest_1samp(a = england_sample, popmean = pop_mean)\n",
    "t_value_"
   ]
  },
  {
   "cell_type": "markdown",
   "metadata": {},
   "source": [
    "Our t-value is less than our critical t value. This means we __*fail to reject our Null Hypothesis*__"
   ]
  },
  {
   "cell_type": "markdown",
   "metadata": {},
   "source": [
    "What about the rest of the European Leagues? Do any of those leagues win more than the average home win percentage in Europe?\n",
    "<br><br><br>\n",
    "Let's being by creating a dataFrame with league names corresponding to each League"
   ]
  },
  {
   "cell_type": "code",
   "execution_count": 17,
   "metadata": {},
   "outputs": [
    {
     "data": {
      "text/html": [
       "<div>\n",
       "<style scoped>\n",
       "    .dataframe tbody tr th:only-of-type {\n",
       "        vertical-align: middle;\n",
       "    }\n",
       "\n",
       "    .dataframe tbody tr th {\n",
       "        vertical-align: top;\n",
       "    }\n",
       "\n",
       "    .dataframe thead th {\n",
       "        text-align: right;\n",
       "    }\n",
       "</style>\n",
       "<table border=\"1\" class=\"dataframe\">\n",
       "  <thead>\n",
       "    <tr style=\"text-align: right;\">\n",
       "      <th></th>\n",
       "      <th>LeagueName</th>\n",
       "      <th>CountryName</th>\n",
       "    </tr>\n",
       "  </thead>\n",
       "  <tbody>\n",
       "    <tr>\n",
       "      <th>0</th>\n",
       "      <td>Belgium Jupiler League</td>\n",
       "      <td>Belgium</td>\n",
       "    </tr>\n",
       "    <tr>\n",
       "      <th>1</th>\n",
       "      <td>England Premier League</td>\n",
       "      <td>England</td>\n",
       "    </tr>\n",
       "    <tr>\n",
       "      <th>2</th>\n",
       "      <td>France Ligue 1</td>\n",
       "      <td>France</td>\n",
       "    </tr>\n",
       "    <tr>\n",
       "      <th>3</th>\n",
       "      <td>Germany 1. Bundesliga</td>\n",
       "      <td>Germany</td>\n",
       "    </tr>\n",
       "    <tr>\n",
       "      <th>4</th>\n",
       "      <td>Italy Serie A</td>\n",
       "      <td>Italy</td>\n",
       "    </tr>\n",
       "  </tbody>\n",
       "</table>\n",
       "</div>"
      ],
      "text/plain": [
       "               LeagueName CountryName\n",
       "0  Belgium Jupiler League     Belgium\n",
       "1  England Premier League     England\n",
       "2          France Ligue 1      France\n",
       "3   Germany 1. Bundesliga     Germany\n",
       "4           Italy Serie A       Italy"
      ]
     },
     "execution_count": 17,
     "metadata": {},
     "output_type": "execute_result"
    }
   ],
   "source": [
    "#Going to make a new SQL query to our database to get League Names and Countries\n",
    "\n",
    "sql_league = \"\"\"\n",
    "            SELECT L.name as LeagueName,\n",
    "            C.name as CountryName\n",
    "            FROM League as L\n",
    "            JOIN Country as C\n",
    "            ON C.id = L.country_id\n",
    "            ;\"\"\"\n",
    "df_league = make_sql_frame(sql_league)\n",
    "df_league.head()"
   ]
  },
  {
   "cell_type": "markdown",
   "metadata": {},
   "source": [
    "Going to convert these League Names and Countries into Lists so we can make a Dictionary of all the Europeaon Leagues with their respective winning percentages"
   ]
  },
  {
   "cell_type": "code",
   "execution_count": 18,
   "metadata": {},
   "outputs": [],
   "source": [
    "#Converting League Names and Country Names to lists\n",
    "\n",
    "countries = df_league.CountryName.tolist()\n",
    "leagues = df_league.LeagueName.tolist()"
   ]
  },
  {
   "cell_type": "code",
   "execution_count": 19,
   "metadata": {},
   "outputs": [],
   "source": [
    "#Creating our Dictionary of Countries with Leagues\n",
    "\n",
    "list_of_countries = []\n",
    "for i in range(0,len(countries)):\n",
    "    country_dict = {}\n",
    "    country_dict['Name'] = countries[i]\n",
    "    country_dict['League'] = leagues[i]\n",
    "    list_of_countries.append(country_dict)"
   ]
  },
  {
   "cell_type": "code",
   "execution_count": 20,
   "metadata": {},
   "outputs": [],
   "source": [
    "#Aggregating all the information about win percentages and adding to our dictionary\n",
    "\n",
    "for i in range(0,len(list_of_countries)):\n",
    "    df = df_matches.loc[df_matches.country_name == list_of_countries[i][\"Name\"]]\n",
    "    df_wins = calc_wins(df)\n",
    "    list_of_countries[i]['TeamNames'] = df_wins.TeamName.tolist()\n",
    "    list_of_countries[i]['HomeWinPct'] = df_wins.HomeWinPct.tolist()\n",
    "    list_of_countries[i]['AwayWinPct'] = df_wins.AwayWinPct.tolist()\n",
    "    list_of_countries[i]['TotalWinPct'] = df_wins.TotalWinPct.tolist()\n"
   ]
  },
  {
   "cell_type": "code",
   "execution_count": 108,
   "metadata": {},
   "outputs": [
    {
     "name": "stdout",
     "output_type": "stream",
     "text": [
      "Belgium Jupiler League\n",
      "Fail to reject the Null Hypothesis\n",
      "\n",
      "England Premier League\n",
      "Fail to reject the Null Hypothesis\n",
      "\n",
      "France Ligue 1\n",
      "Fail to reject the Null Hypothesis\n",
      "\n",
      "Germany 1. Bundesliga\n",
      "Fail to reject the Null Hypothesis\n",
      "\n",
      "Italy Serie A\n",
      "Fail to reject the Null Hypothesis\n",
      "\n",
      "Netherlands Eredivisie\n",
      "Fail to reject the Null Hypothesis\n",
      "\n",
      "Poland Ekstraklasa\n",
      "Fail to reject the Null Hypothesis\n",
      "\n",
      "Portugal Liga ZON Sagres\n",
      "Fail to reject the Null Hypothesis\n",
      "\n",
      "Scotland Premier League\n",
      "Fail to reject the Null Hypothesis\n",
      "\n",
      "Spain LIGA BBVA\n",
      "Fail to reject the Null Hypothesis\n",
      "\n",
      "Switzerland Super League\n",
      "Fail to reject the Null Hypothesis\n",
      "\n"
     ]
    }
   ],
   "source": [
    "for i in range(0,len(list_of_countries)):\n",
    "    team_home_win = list_of_countries[i]['HomeWinPct']\n",
    "    sample_size = len(team_home_win)\n",
    "    team_sample = [sample_mean(team_home_win, 200) for i in range(20000)]\n",
    "    print(list_of_countries[i]['League'])\n",
    "    t_crit_ = np.round(stats.t.ppf(1 - 0.05, df = sample_size -1),3)\n",
    "    t_value = (np.mean(team_home_win) - pop_mean)/(np.std(team_home_win) / np.sqrt(sample_size))\n",
    "    if(t_value > t_crit_):\n",
    "        print(\"reject the Null Hypothesis\\n\")\n",
    "    \n",
    "    else:\n",
    "        print(\"Fail to reject the Null Hypothesis\\n\")\n",
    "    \n",
    "#     plt.hist(team_sample, bins =50)\n",
    "plt.show()"
   ]
  },
  {
   "cell_type": "markdown",
   "metadata": {},
   "source": [
    "## Conclusions\n",
    "We failed to reject the Null Hypothesis with a 95% certainty that the English Premier League does not have a statistically significant higher winning percentage at home than the rest of Europe. We checked the other European Leagues as well and they all fail to reject the null hypothesis as well.\n",
    "\n",
    "<br><br>\n",
    "<a href=\"#top\">Back to top</a>\n"
   ]
  },
  {
   "cell_type": "code",
   "execution_count": null,
   "metadata": {},
   "outputs": [],
   "source": []
  }
 ],
 "metadata": {
  "kernelspec": {
   "display_name": "Python [conda env:learn-env] *",
   "language": "python",
   "name": "conda-env-learn-env-py"
  },
  "language_info": {
   "codemirror_mode": {
    "name": "ipython",
    "version": 3
   },
   "file_extension": ".py",
   "mimetype": "text/x-python",
   "name": "python",
   "nbconvert_exporter": "python",
   "pygments_lexer": "ipython3",
   "version": "3.6.6"
  }
 },
 "nbformat": 4,
 "nbformat_minor": 2
}
