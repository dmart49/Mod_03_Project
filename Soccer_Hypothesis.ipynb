{
 "cells": [
  {
   "cell_type": "markdown",
   "metadata": {},
   "source": [
    "<h1>European Soccer Database</h1>\n",
    "<h3>Our Stakeholders: Major gambling sites and the greater gambling 'community'</h3>\n",
    "Our project is aimed at interested gamblers who like to either place money into betting markets, or alternatively set betting markets for bookies. We are taking a look at a dataset of Europen Soccer Matches from the years 2008 to 2016, and analyzing a dataset with 296 teams, over 25,000 matches, aggregated FIFA data for both players and teams, and an analysis of 11 different countries with 11 total leagues.\n",
    "\n",
    "In order to provide the most accurate insights for betting markets we wanted to answer some questions that could impact the predictions of future soccer events based on previous results.\n",
    "Some of these questions include:\n"
   ]
  },
  {
   "cell_type": "markdown",
   "metadata": {},
   "source": [
    "<h2>Question 1: Home Field Advantage - Zach</h2>\n",
    "\n",
    "Is there a statistical difference in the odds of winning a game when a team is playing in front of a home crowd?\n",
    "\n",
    "### Null Hypothesis\n",
    ">**$H_{0}$ :There is no difference in projected win percentage between playing at a home field and playing in an away field.**\n",
    "\n",
    "### Alternate Hypothesis\n",
    ">**$H_{a}$ : There is a statistical advantage in being able to play with a home field.**\n"
   ]
  },
  {
   "cell_type": "markdown",
   "metadata": {},
   "source": [
    "## Question 2: Home Field Advantage in England - Daniel\n",
    "\n",
    "Is there a statstistical significance in the odds of winning at home in England  than the rest of Europe?\n",
    "\n",
    "### Null Hypothesis\n",
    ">**$H_{0}$ : There is no difference in Home Win Percentage between the English Premier League and the rest of Europe**\n",
    "\n",
    "$${\\large \\bar{x}} = \\large \\mu$$\n",
    "\n",
    "### Alternate Hypothesis\n",
    ">**$H_{a}$ : The English Premier League has a higher Home Win Percentage than the rest of Europe**\n",
    "\n",
    "$${\\large \\bar{x}} > \\large \\mu$$\n"
   ]
  },
  {
   "cell_type": "code",
   "execution_count": null,
   "metadata": {},
   "outputs": [],
   "source": []
  }
 ],
 "metadata": {
  "kernelspec": {
   "display_name": "Python 3",
   "language": "python",
   "name": "python3"
  },
  "language_info": {
   "codemirror_mode": {
    "name": "ipython",
    "version": 3
   },
   "file_extension": ".py",
   "mimetype": "text/x-python",
   "name": "python",
   "nbconvert_exporter": "python",
   "pygments_lexer": "ipython3",
   "version": "3.6.6"
  }
 },
 "nbformat": 4,
 "nbformat_minor": 2
}
