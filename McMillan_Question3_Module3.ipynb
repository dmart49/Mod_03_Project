{
 "cells": [
  {
   "cell_type": "markdown",
   "metadata": {},
   "source": [
    "# Why is home field advantage so low in the Scotland Premier League?"
   ]
  },
  {
   "cell_type": "markdown",
   "metadata": {},
   "source": [
    "## Observation"
   ]
  },
  {
   "cell_type": "markdown",
   "metadata": {},
   "source": [
    "After importing and manipulating data from https://www.kaggle.com/hugomathien/soccer, I explored the data regarding home and away records. "
   ]
  },
  {
   "cell_type": "code",
   "execution_count": 1,
   "metadata": {},
   "outputs": [],
   "source": [
    "import pandas as pd\n",
    "import matplotlib.pyplot as plt\n",
    "import sqlite3\n",
    "\n",
    "conn = sqlite3.connect('./database.sqlite')\n",
    "c = conn.cursor()"
   ]
  },
  {
   "cell_type": "code",
   "execution_count": 2,
   "metadata": {},
   "outputs": [
    {
     "data": {
      "text/html": [
       "<div>\n",
       "<style scoped>\n",
       "    .dataframe tbody tr th:only-of-type {\n",
       "        vertical-align: middle;\n",
       "    }\n",
       "\n",
       "    .dataframe tbody tr th {\n",
       "        vertical-align: top;\n",
       "    }\n",
       "\n",
       "    .dataframe thead th {\n",
       "        text-align: right;\n",
       "    }\n",
       "</style>\n",
       "<table border=\"1\" class=\"dataframe\">\n",
       "  <thead>\n",
       "    <tr style=\"text-align: right;\">\n",
       "      <th></th>\n",
       "      <th>id</th>\n",
       "      <th>country_name</th>\n",
       "      <th>league_name</th>\n",
       "      <th>season</th>\n",
       "      <th>stage</th>\n",
       "      <th>date</th>\n",
       "      <th>home_team</th>\n",
       "      <th>away_team</th>\n",
       "      <th>home_team_goal</th>\n",
       "      <th>away_team_goal</th>\n",
       "    </tr>\n",
       "  </thead>\n",
       "  <tbody>\n",
       "    <tr>\n",
       "      <th>0</th>\n",
       "      <td>24559</td>\n",
       "      <td>Switzerland</td>\n",
       "      <td>Switzerland Super League</td>\n",
       "      <td>2008/2009</td>\n",
       "      <td>1</td>\n",
       "      <td>2008-07-18 00:00:00</td>\n",
       "      <td>BSC Young Boys</td>\n",
       "      <td>FC Basel</td>\n",
       "      <td>1</td>\n",
       "      <td>2</td>\n",
       "    </tr>\n",
       "    <tr>\n",
       "      <th>1</th>\n",
       "      <td>24560</td>\n",
       "      <td>Switzerland</td>\n",
       "      <td>Switzerland Super League</td>\n",
       "      <td>2008/2009</td>\n",
       "      <td>1</td>\n",
       "      <td>2008-07-19 00:00:00</td>\n",
       "      <td>FC Aarau</td>\n",
       "      <td>FC Sion</td>\n",
       "      <td>3</td>\n",
       "      <td>1</td>\n",
       "    </tr>\n",
       "    <tr>\n",
       "      <th>2</th>\n",
       "      <td>24561</td>\n",
       "      <td>Switzerland</td>\n",
       "      <td>Switzerland Super League</td>\n",
       "      <td>2008/2009</td>\n",
       "      <td>1</td>\n",
       "      <td>2008-07-20 00:00:00</td>\n",
       "      <td>FC Luzern</td>\n",
       "      <td>FC Vaduz</td>\n",
       "      <td>1</td>\n",
       "      <td>2</td>\n",
       "    </tr>\n",
       "    <tr>\n",
       "      <th>3</th>\n",
       "      <td>24562</td>\n",
       "      <td>Switzerland</td>\n",
       "      <td>Switzerland Super League</td>\n",
       "      <td>2008/2009</td>\n",
       "      <td>1</td>\n",
       "      <td>2008-07-20 00:00:00</td>\n",
       "      <td>Neuchâtel Xamax</td>\n",
       "      <td>FC Zürich</td>\n",
       "      <td>1</td>\n",
       "      <td>2</td>\n",
       "    </tr>\n",
       "    <tr>\n",
       "      <th>4</th>\n",
       "      <td>24613</td>\n",
       "      <td>Switzerland</td>\n",
       "      <td>Switzerland Super League</td>\n",
       "      <td>2008/2009</td>\n",
       "      <td>2</td>\n",
       "      <td>2008-07-23 00:00:00</td>\n",
       "      <td>FC Basel</td>\n",
       "      <td>Grasshopper Club Zürich</td>\n",
       "      <td>1</td>\n",
       "      <td>0</td>\n",
       "    </tr>\n",
       "  </tbody>\n",
       "</table>\n",
       "</div>"
      ],
      "text/plain": [
       "      id country_name               league_name     season  stage  \\\n",
       "0  24559  Switzerland  Switzerland Super League  2008/2009      1   \n",
       "1  24560  Switzerland  Switzerland Super League  2008/2009      1   \n",
       "2  24561  Switzerland  Switzerland Super League  2008/2009      1   \n",
       "3  24562  Switzerland  Switzerland Super League  2008/2009      1   \n",
       "4  24613  Switzerland  Switzerland Super League  2008/2009      2   \n",
       "\n",
       "                  date        home_team                away_team  \\\n",
       "0  2008-07-18 00:00:00   BSC Young Boys                 FC Basel   \n",
       "1  2008-07-19 00:00:00         FC Aarau                  FC Sion   \n",
       "2  2008-07-20 00:00:00        FC Luzern                 FC Vaduz   \n",
       "3  2008-07-20 00:00:00  Neuchâtel Xamax                FC Zürich   \n",
       "4  2008-07-23 00:00:00         FC Basel  Grasshopper Club Zürich   \n",
       "\n",
       "   home_team_goal  away_team_goal  \n",
       "0               1               2  \n",
       "1               3               1  \n",
       "2               1               2  \n",
       "3               1               2  \n",
       "4               1               0  "
      ]
     },
     "execution_count": 2,
     "metadata": {},
     "output_type": "execute_result"
    }
   ],
   "source": [
    "c.execute(\"\"\"SELECT m.id, c.name AS country_name, l.name AS league_name, season, stage, date,\n",
    "             HT.team_long_name AS  home_team, AT.team_long_name AS away_team, home_team_goal, away_team_goal                                        \n",
    "             FROM Match m\n",
    "             JOIN Country c on c.id = m.country_id\n",
    "             JOIN League l on l.id = m.league_id\n",
    "             LEFT JOIN Team AS HT on HT.team_api_id = m.home_team_api_id\n",
    "             LEFT JOIN Team AS AT on AT.team_api_id = m.away_team_api_id\n",
    "             ORDER by date\"\"\")\n",
    "df = pd.DataFrame(c.fetchall())\n",
    "df.columns = [x[0] for x in c.description]\n",
    "df.head(5)\n",
    "#print(len(df))"
   ]
  },
  {
   "cell_type": "code",
   "execution_count": 3,
   "metadata": {},
   "outputs": [],
   "source": [
    "df['date'] = pd.to_datetime(df.date)\n",
    "df.loc[df[\"home_team_goal\"] > df[\"away_team_goal\"], \"Home_Win\"] = 1 \n",
    "df.loc[df[\"away_team_goal\"] > df[\"home_team_goal\"], \"Away_Win\"] = 1 \n",
    "df.loc[df[\"away_team_goal\"] == df[\"home_team_goal\"], \"Draw\"] = 1"
   ]
  },
  {
   "cell_type": "code",
   "execution_count": 4,
   "metadata": {},
   "outputs": [],
   "source": [
    "df['Away_Win'] = df['Away_Win'].fillna(0)\n",
    "df['Away_Win'] = df['Away_Win'].astype(int)\n",
    "df['Home_Win'] = df['Home_Win'].fillna(0)\n",
    "df['Home_Win'] = df['Home_Win'].astype(int)\n",
    "df['Draw'] = df['Draw'].fillna(0)\n",
    "df['Draw'] = df['Draw'].astype(int)"
   ]
  },
  {
   "cell_type": "code",
   "execution_count": 5,
   "metadata": {},
   "outputs": [],
   "source": [
    "#Home_Record = df.groupby(['season', 'home_team'])['Home_Win', 'Away_Win', 'Draw'].sum()\n",
    "Home_Record = df.groupby(['league_name', 'home_team'])['Home_Win', 'Away_Win', 'Draw'].sum()\n",
    "Home_Record.rename(columns={'Away_Win': 'Home_Loss', 'Draw': 'Home_Draw'}, inplace=True)\n",
    "Away_Record = df.groupby(['league_name','away_team'])['Home_Win', 'Away_Win', 'Draw'].sum()\n",
    "Away_Record.rename(columns={'Home_Win': 'Away_Loss', 'Draw': 'Away_Draw'}, inplace=True)\n",
    "Home_Record.index.names = ['league_name','team']\n",
    "Away_Record.index.names = ['league_name','team']"
   ]
  },
  {
   "cell_type": "code",
   "execution_count": 6,
   "metadata": {},
   "outputs": [],
   "source": [
    "Goals_Scored = (df.groupby(['league_name','home_team'])['home_team_goal'].sum()) + (df.groupby(['league_name','away_team'])['away_team_goal'].sum())\n",
    "Goals_Allowed = (df.groupby(['league_name','home_team'])['away_team_goal'].sum()) + (df.groupby(['league_name','away_team'])['home_team_goal'].sum())\n",
    "Goals_Allowed.index.names = ['league_name','team']\n",
    "Goals_Scored.index.names = ['league_name','team']"
   ]
  },
  {
   "cell_type": "code",
   "execution_count": 7,
   "metadata": {},
   "outputs": [],
   "source": [
    "df = pd.concat([Home_Record, Away_Record, Goals_Scored, Goals_Allowed], axis=1)\n",
    "df.rename(columns={0: 'Goals_Scored', 1: 'Goals_Allowed' }, inplace=True)"
   ]
  },
  {
   "cell_type": "code",
   "execution_count": 8,
   "metadata": {},
   "outputs": [],
   "source": [
    "df['Total_Wins'] = df['Home_Win'] + df['Away_Win']\n",
    "df['Total_Losses'] = df['Home_Loss'] + df['Away_Loss']\n",
    "df['Total_Draws'] = df['Home_Draw'] + df['Away_Draw']"
   ]
  },
  {
   "cell_type": "code",
   "execution_count": 9,
   "metadata": {},
   "outputs": [],
   "source": [
    "df['Total_Matches'] = df['Total_Wins'] + df['Total_Losses'] + df['Total_Draws']"
   ]
  },
  {
   "cell_type": "code",
   "execution_count": 10,
   "metadata": {},
   "outputs": [],
   "source": [
    "df['Win_%'] = ((df['Total_Wins']/df['Total_Matches'])*100).round(2)\n",
    "df['Loss_%'] = ((df['Total_Losses']/df['Total_Matches'])*100).round(2)\n",
    "df['Draw_%'] = ((df['Total_Draws']/df['Total_Matches'])*100).round(2)\n",
    "df['Home_Win_%'] = ((df['Home_Win'])/(df['Home_Win'] + df['Home_Loss'] + df['Home_Draw'])*100).round(2)\n",
    "df['Away_Win_%'] = ((df['Away_Win'])/(df['Away_Win'] + df['Away_Loss'] + df['Away_Draw'])*100).round(2)\n",
    "df['Goals_per_Match'] = ((df['Goals_Scored']/df['Total_Matches'])*100).round(2)\n",
    "df['Goals_Allowed_per_Match'] = ((df['Goals_Allowed']/df['Total_Matches'])*100).round(2)"
   ]
  },
  {
   "cell_type": "code",
   "execution_count": 11,
   "metadata": {},
   "outputs": [
    {
     "data": {
      "text/html": [
       "<div>\n",
       "<style scoped>\n",
       "    .dataframe tbody tr th:only-of-type {\n",
       "        vertical-align: middle;\n",
       "    }\n",
       "\n",
       "    .dataframe tbody tr th {\n",
       "        vertical-align: top;\n",
       "    }\n",
       "\n",
       "    .dataframe thead th {\n",
       "        text-align: right;\n",
       "    }\n",
       "</style>\n",
       "<table border=\"1\" class=\"dataframe\">\n",
       "  <thead>\n",
       "    <tr style=\"text-align: right;\">\n",
       "      <th></th>\n",
       "      <th></th>\n",
       "      <th>Home_Win</th>\n",
       "      <th>Home_Loss</th>\n",
       "      <th>Home_Draw</th>\n",
       "      <th>Away_Loss</th>\n",
       "      <th>Away_Win</th>\n",
       "      <th>Away_Draw</th>\n",
       "      <th>Goals_Scored</th>\n",
       "      <th>Goals_Allowed</th>\n",
       "      <th>Total_Wins</th>\n",
       "      <th>Total_Losses</th>\n",
       "      <th>Total_Draws</th>\n",
       "      <th>Total_Matches</th>\n",
       "      <th>Win_%</th>\n",
       "      <th>Loss_%</th>\n",
       "      <th>Draw_%</th>\n",
       "      <th>Home_Win_%</th>\n",
       "      <th>Away_Win_%</th>\n",
       "      <th>Goals_per_Match</th>\n",
       "      <th>Goals_Allowed_per_Match</th>\n",
       "    </tr>\n",
       "    <tr>\n",
       "      <th>league_name</th>\n",
       "      <th>team</th>\n",
       "      <th></th>\n",
       "      <th></th>\n",
       "      <th></th>\n",
       "      <th></th>\n",
       "      <th></th>\n",
       "      <th></th>\n",
       "      <th></th>\n",
       "      <th></th>\n",
       "      <th></th>\n",
       "      <th></th>\n",
       "      <th></th>\n",
       "      <th></th>\n",
       "      <th></th>\n",
       "      <th></th>\n",
       "      <th></th>\n",
       "      <th></th>\n",
       "      <th></th>\n",
       "      <th></th>\n",
       "      <th></th>\n",
       "    </tr>\n",
       "  </thead>\n",
       "  <tbody>\n",
       "    <tr>\n",
       "      <th rowspan=\"5\" valign=\"top\">Belgium Jupiler League</th>\n",
       "      <th>Beerschot AC</th>\n",
       "      <td>30</td>\n",
       "      <td>21</td>\n",
       "      <td>25</td>\n",
       "      <td>49</td>\n",
       "      <td>10</td>\n",
       "      <td>17</td>\n",
       "      <td>174</td>\n",
       "      <td>237</td>\n",
       "      <td>40</td>\n",
       "      <td>70</td>\n",
       "      <td>42</td>\n",
       "      <td>152</td>\n",
       "      <td>26.32</td>\n",
       "      <td>46.05</td>\n",
       "      <td>27.63</td>\n",
       "      <td>39.47</td>\n",
       "      <td>13.16</td>\n",
       "      <td>114.47</td>\n",
       "      <td>155.92</td>\n",
       "    </tr>\n",
       "    <tr>\n",
       "      <th>Club Brugge KV</th>\n",
       "      <td>75</td>\n",
       "      <td>13</td>\n",
       "      <td>18</td>\n",
       "      <td>36</td>\n",
       "      <td>48</td>\n",
       "      <td>22</td>\n",
       "      <td>421</td>\n",
       "      <td>251</td>\n",
       "      <td>123</td>\n",
       "      <td>49</td>\n",
       "      <td>40</td>\n",
       "      <td>212</td>\n",
       "      <td>58.02</td>\n",
       "      <td>23.11</td>\n",
       "      <td>18.87</td>\n",
       "      <td>70.75</td>\n",
       "      <td>45.28</td>\n",
       "      <td>198.58</td>\n",
       "      <td>118.40</td>\n",
       "    </tr>\n",
       "    <tr>\n",
       "      <th>FCV Dender EH</th>\n",
       "      <td>5</td>\n",
       "      <td>8</td>\n",
       "      <td>4</td>\n",
       "      <td>9</td>\n",
       "      <td>4</td>\n",
       "      <td>4</td>\n",
       "      <td>44</td>\n",
       "      <td>58</td>\n",
       "      <td>9</td>\n",
       "      <td>17</td>\n",
       "      <td>8</td>\n",
       "      <td>34</td>\n",
       "      <td>26.47</td>\n",
       "      <td>50.00</td>\n",
       "      <td>23.53</td>\n",
       "      <td>29.41</td>\n",
       "      <td>23.53</td>\n",
       "      <td>129.41</td>\n",
       "      <td>170.59</td>\n",
       "    </tr>\n",
       "    <tr>\n",
       "      <th>KAA Gent</th>\n",
       "      <td>63</td>\n",
       "      <td>27</td>\n",
       "      <td>19</td>\n",
       "      <td>27</td>\n",
       "      <td>46</td>\n",
       "      <td>36</td>\n",
       "      <td>390</td>\n",
       "      <td>253</td>\n",
       "      <td>109</td>\n",
       "      <td>54</td>\n",
       "      <td>55</td>\n",
       "      <td>218</td>\n",
       "      <td>50.00</td>\n",
       "      <td>24.77</td>\n",
       "      <td>25.23</td>\n",
       "      <td>57.80</td>\n",
       "      <td>42.20</td>\n",
       "      <td>178.90</td>\n",
       "      <td>116.06</td>\n",
       "    </tr>\n",
       "    <tr>\n",
       "      <th>KAS Eupen</th>\n",
       "      <td>3</td>\n",
       "      <td>9</td>\n",
       "      <td>3</td>\n",
       "      <td>8</td>\n",
       "      <td>2</td>\n",
       "      <td>5</td>\n",
       "      <td>28</td>\n",
       "      <td>50</td>\n",
       "      <td>5</td>\n",
       "      <td>17</td>\n",
       "      <td>8</td>\n",
       "      <td>30</td>\n",
       "      <td>16.67</td>\n",
       "      <td>56.67</td>\n",
       "      <td>26.67</td>\n",
       "      <td>20.00</td>\n",
       "      <td>13.33</td>\n",
       "      <td>93.33</td>\n",
       "      <td>166.67</td>\n",
       "    </tr>\n",
       "  </tbody>\n",
       "</table>\n",
       "</div>"
      ],
      "text/plain": [
       "                                       Home_Win  Home_Loss  Home_Draw  \\\n",
       "league_name            team                                             \n",
       "Belgium Jupiler League Beerschot AC          30         21         25   \n",
       "                       Club Brugge KV        75         13         18   \n",
       "                       FCV Dender EH          5          8          4   \n",
       "                       KAA Gent              63         27         19   \n",
       "                       KAS Eupen              3          9          3   \n",
       "\n",
       "                                       Away_Loss  Away_Win  Away_Draw  \\\n",
       "league_name            team                                             \n",
       "Belgium Jupiler League Beerschot AC           49        10         17   \n",
       "                       Club Brugge KV         36        48         22   \n",
       "                       FCV Dender EH           9         4          4   \n",
       "                       KAA Gent               27        46         36   \n",
       "                       KAS Eupen               8         2          5   \n",
       "\n",
       "                                       Goals_Scored  Goals_Allowed  \\\n",
       "league_name            team                                          \n",
       "Belgium Jupiler League Beerschot AC             174            237   \n",
       "                       Club Brugge KV           421            251   \n",
       "                       FCV Dender EH             44             58   \n",
       "                       KAA Gent                 390            253   \n",
       "                       KAS Eupen                 28             50   \n",
       "\n",
       "                                       Total_Wins  Total_Losses  Total_Draws  \\\n",
       "league_name            team                                                    \n",
       "Belgium Jupiler League Beerschot AC            40            70           42   \n",
       "                       Club Brugge KV         123            49           40   \n",
       "                       FCV Dender EH            9            17            8   \n",
       "                       KAA Gent               109            54           55   \n",
       "                       KAS Eupen                5            17            8   \n",
       "\n",
       "                                       Total_Matches  Win_%  Loss_%  Draw_%  \\\n",
       "league_name            team                                                   \n",
       "Belgium Jupiler League Beerschot AC              152  26.32   46.05   27.63   \n",
       "                       Club Brugge KV            212  58.02   23.11   18.87   \n",
       "                       FCV Dender EH              34  26.47   50.00   23.53   \n",
       "                       KAA Gent                  218  50.00   24.77   25.23   \n",
       "                       KAS Eupen                  30  16.67   56.67   26.67   \n",
       "\n",
       "                                       Home_Win_%  Away_Win_%  \\\n",
       "league_name            team                                     \n",
       "Belgium Jupiler League Beerschot AC         39.47       13.16   \n",
       "                       Club Brugge KV       70.75       45.28   \n",
       "                       FCV Dender EH        29.41       23.53   \n",
       "                       KAA Gent             57.80       42.20   \n",
       "                       KAS Eupen            20.00       13.33   \n",
       "\n",
       "                                       Goals_per_Match  \\\n",
       "league_name            team                              \n",
       "Belgium Jupiler League Beerschot AC             114.47   \n",
       "                       Club Brugge KV           198.58   \n",
       "                       FCV Dender EH            129.41   \n",
       "                       KAA Gent                 178.90   \n",
       "                       KAS Eupen                 93.33   \n",
       "\n",
       "                                       Goals_Allowed_per_Match  \n",
       "league_name            team                                     \n",
       "Belgium Jupiler League Beerschot AC                     155.92  \n",
       "                       Club Brugge KV                   118.40  \n",
       "                       FCV Dender EH                    170.59  \n",
       "                       KAA Gent                         116.06  \n",
       "                       KAS Eupen                        166.67  "
      ]
     },
     "execution_count": 11,
     "metadata": {},
     "output_type": "execute_result"
    }
   ],
   "source": [
    "pd.set_option('display.max_columns', 100)\n",
    "df.head(5)"
   ]
  },
  {
   "cell_type": "markdown",
   "metadata": {},
   "source": [
    "## Hypotheis Formation"
   ]
  },
  {
   "cell_type": "markdown",
   "metadata": {},
   "source": [
    "Comparing the Away Win Percentage among the 11 leagues in the dataset, I discovered that the Away Win Percentage among the Scotland Premier League is unusually high."
   ]
  },
  {
   "cell_type": "code",
   "execution_count": 30,
   "metadata": {},
   "outputs": [
    {
     "data": {
      "text/plain": [
       "league_name\n",
       "Italy Serie A               22.414687\n",
       "France Ligue 1              22.858571\n",
       "Spain LIGA BBVA             23.568788\n",
       "Netherlands Eredivisie      23.781600\n",
       "Portugal Liga ZON Sagres    24.288276\n",
       "Belgium Jupiler League      25.023750\n",
       "England Premier League      25.063824\n",
       "Poland Ekstraklasa          25.492273\n",
       "Germany 1. Bundesliga       26.126333\n",
       "Switzerland Super League    26.136667\n",
       "Scotland Premier League     32.213529\n",
       "Name: Away_Win_%, dtype: float64"
      ]
     },
     "execution_count": 30,
     "metadata": {},
     "output_type": "execute_result"
    },
    {
     "data": {
      "image/png": "[encoded data removed]",
      "text/plain": [
       "<Figure size 1080x576 with 1 Axes>"
      ]
     },
     "metadata": {
      "needs_background": "light"
     },
     "output_type": "display_data"
    }
   ],
   "source": [
    "df.groupby(['league_name'])['Away_Win_%'].mean().sort_values().plot(kind='barh', figsize=(15,8))\n",
    "plt.xlabel(\"Away Game Win Percentage\")\n",
    "plt.ylabel(\"League\")\n",
    "plt.title(\"Descending Order of Away Win Percentage by League\")\n",
    "df.groupby(['league_name'])['Away_Win_%'].mean().sort_values().head(14)"
   ]
  },
  {
   "cell_type": "markdown",
   "metadata": {},
   "source": [
    "The above horizontal bar chart indicates that the away win percentage among teams in the Scotland Premier League is unusually high. I think that this value is statistically significant at the 0.05 p-value level.\n",
    "\n",
    "In order to test this hypothesis, I need to find the mean and standard deviation for the away win percentage among all leagues in the dataset."
   ]
  },
  {
   "cell_type": "markdown",
   "metadata": {},
   "source": [
    "### Null Hypothesis"
   ]
  },
  {
   "cell_type": "markdown",
   "metadata": {},
   "source": [
    "The Null Hypothesis is that there is no difference between the away win % mean among teams in the Scotland Premier League and the away win percentage mean among teams across all leagues.\n",
    "\n",
    "Said another way, whatever 'stark difference' I think I'm observing is actually just due to randomness within the data."
   ]
  },
  {
   "cell_type": "markdown",
   "metadata": {},
   "source": [
    "### Alternative Hypothesis"
   ]
  },
  {
   "cell_type": "markdown",
   "metadata": {},
   "source": [
    "The Alternative Hypothesis that I am arguing for is that the high away win percentage of the Scotland Premier League is a noteworthy finding in the data that will be found statistically significant at the 0.05 level. Because I think the Scotland Premier League is greater (in a statistically significant way) than the population average, I will conduct a one-tail test."
   ]
  },
  {
   "cell_type": "markdown",
   "metadata": {},
   "source": [
    "## Running An 'Experiment'"
   ]
  },
  {
   "cell_type": "code",
   "execution_count": 92,
   "metadata": {},
   "outputs": [
    {
     "data": {
      "text/plain": [
       "array([[<matplotlib.axes._subplots.AxesSubplot object at 0x1a21f7f1d0>]],\n",
       "      dtype=object)"
      ]
     },
     "execution_count": 92,
     "metadata": {},
     "output_type": "execute_result"
    },
    {
     "data": {
      "image/png": "[encoded data removed]",
      "text/plain": [
       "<Figure size 432x288 with 1 Axes>"
      ]
     },
     "metadata": {
      "needs_background": "light"
     },
     "output_type": "display_data"
    }
   ],
   "source": [
    "df.hist('Away_Win_%', bins=50)"
   ]
  },
  {
   "cell_type": "code",
   "execution_count": 93,
   "metadata": {},
   "outputs": [
    {
     "name": "stdout",
     "output_type": "stream",
     "text": [
      "df_mean is 24.766993243243245 \\df_std is 12.422180493653412\n"
     ]
    }
   ],
   "source": [
    "df_mean = df['Away_Win_%'].mean()\n",
    "df_std = df['Away_Win_%'].std()\n",
    "print('df_mean is {} \\df_std is {}'.format(df_mean,df_std))"
   ]
  },
  {
   "cell_type": "markdown",
   "metadata": {},
   "source": [
    "Because the distribution of Away_Win_& is skewed to the right, I will create a sampling distribution from the data by drawing a high number of fairly large samples."
   ]
  },
  {
   "cell_type": "code",
   "execution_count": 94,
   "metadata": {},
   "outputs": [
    {
     "data": {
      "text/plain": [
       "21.232999999999997"
      ]
     },
     "execution_count": 94,
     "metadata": {},
     "output_type": "execute_result"
    }
   ],
   "source": [
    "import numpy as np\n",
    "\n",
    "def one_sample_mean(df):\n",
    "    sample = np.random.choice(df,size=20,replace=True)\n",
    "    return sample.mean()\n",
    "\n",
    "one_sample_mean(df['Away_Win_%'])"
   ]
  },
  {
   "cell_type": "code",
   "execution_count": 95,
   "metadata": {},
   "outputs": [
    {
     "data": {
      "text/plain": [
       "array([[<matplotlib.axes._subplots.AxesSubplot object at 0x1a22f76198>]],\n",
       "      dtype=object)"
      ]
     },
     "execution_count": 95,
     "metadata": {},
     "output_type": "execute_result"
    },
    {
     "data": {
      "image/png": "[encoded data removed]",
      "text/plain": [
       "<Figure size 432x288 with 1 Axes>"
      ]
     },
     "metadata": {
      "needs_background": "light"
     },
     "output_type": "display_data"
    },
    {
     "data": {
      "image/png": "[encoded data removed]",
      "text/plain": [
       "<Figure size 432x288 with 1 Axes>"
      ]
     },
     "metadata": {
      "needs_background": "light"
     },
     "output_type": "display_data"
    }
   ],
   "source": [
    "w = [one_sample_mean(df['Away_Win_%']) for i in range(50000)]\n",
    "plt.hist(w,bins=50)\n",
    "df.hist('Away_Win_%', bins=50)"
   ]
  },
  {
   "cell_type": "markdown",
   "metadata": {},
   "source": [
    "The Scotland Premier League Away_Win_% is 32.213529. Just as a reminder, the general Away_Win_% is mean 24.76699 and the standard deviation is 12.42218."
   ]
  },
  {
   "cell_type": "code",
   "execution_count": 96,
   "metadata": {},
   "outputs": [],
   "source": [
    "import numpy as np\n",
    "from scipy import stats\n",
    "import itertools"
   ]
  },
  {
   "cell_type": "markdown",
   "metadata": {},
   "source": [
    "Let's set a threshold value of $p = 0.05$ for rejecting the null hypothesis.\n",
    "\n",
    "The standard error for our sample is: $\\large\\frac{\\sigma}{\\sqrt{n}} = \\frac{12.422.18}{\\sqrt{17}} = 3.01282$."
   ]
  },
  {
   "cell_type": "code",
   "execution_count": 97,
   "metadata": {},
   "outputs": [
    {
     "data": {
      "text/plain": [
       "3.012821190613835"
      ]
     },
     "execution_count": 97,
     "metadata": {},
     "output_type": "execute_result"
    }
   ],
   "source": [
    "#standard error = standard deviation / sqrt of # of observations\n",
    "se = 12.42218 / np.sqrt(17)\n",
    "se"
   ]
  },
  {
   "cell_type": "markdown",
   "metadata": {},
   "source": [
    "Even though our sample size is small (only 17 teams in the Scotland Premier League), the standard deviation of our population is known. Hence, the z-score is permissible.\n",
    "\n",
    "The z-score will be: $\\large\\frac{\\bar{x} - \\mu}{se} = \\frac{32.21353 - 24.76699}{3.01282} = \\frac{7.44654}{3.01282} = 2.47$."
   ]
  },
  {
   "cell_type": "code",
   "execution_count": 113,
   "metadata": {},
   "outputs": [
    {
     "data": {
      "text/plain": [
       "1.6448536269514722"
      ]
     },
     "execution_count": 113,
     "metadata": {},
     "output_type": "execute_result"
    }
   ],
   "source": [
    "import scipy.stats as st\n",
    "st.norm.ppf(.95)"
   ]
  },
  {
   "cell_type": "code",
   "execution_count": 106,
   "metadata": {},
   "outputs": [
    {
     "data": {
      "text/plain": [
       "2.4716169758759676"
      ]
     },
     "execution_count": 106,
     "metadata": {},
     "output_type": "execute_result"
    }
   ],
   "source": [
    "#z = (value you're interested in - mean)/ \n",
    "z = (32.21353 - 24.76699) / se\n",
    "z"
   ]
  },
  {
   "cell_type": "code",
   "execution_count": 107,
   "metadata": {},
   "outputs": [
    {
     "data": {
      "text/plain": [
       "0.006725176967281055"
      ]
     },
     "execution_count": 107,
     "metadata": {},
     "output_type": "execute_result"
    }
   ],
   "source": [
    "p_value = scipy.stats.norm.sf(abs(z)) #one-sided\n",
    "p_value"
   ]
  },
  {
   "cell_type": "code",
   "execution_count": 108,
   "metadata": {},
   "outputs": [
    {
     "data": {
      "text/plain": [
       "0.993274823032719"
      ]
     },
     "execution_count": 108,
     "metadata": {},
     "output_type": "execute_result"
    }
   ],
   "source": [
    "1 - p_value"
   ]
  },
  {
   "cell_type": "code",
   "execution_count": 101,
   "metadata": {},
   "outputs": [
    {
     "data": {
      "text/plain": [
       "0.9932745037152646"
      ]
     },
     "execution_count": 101,
     "metadata": {},
     "output_type": "execute_result"
    }
   ],
   "source": [
    "st.norm.cdf(2.4716) ## This is the \"survival function\": 1 - cdf(z)"
   ]
  },
  {
   "cell_type": "markdown",
   "metadata": {},
   "source": [
    "The \"area of the tail\" corresponding to this z-score is less than 1% (far less than 5%). Hence, we ought to reject the null hypothesis and conclude that the Away_Win_% in the Scotland Premier League is statistically significant!"
   ]
  },
  {
   "cell_type": "code",
   "execution_count": 109,
   "metadata": {},
   "outputs": [],
   "source": [
    "# Cal culate the t-critical value for 95% confidence level for sample taken above. \n",
    "#t_critical = stats.t.ppf(q = 0.95, df=17-1)  # Get the t-critical value*\n",
    "#print(\"t-critical value:\")                  # Check the t-critical value\n",
    "#print(t_critical)     \n",
    "\n",
    "# t-critical value:\n",
    "# 2.0638985616280205"
   ]
  },
  {
   "cell_type": "markdown",
   "metadata": {},
   "source": [
    "## Conclusions"
   ]
  },
  {
   "cell_type": "markdown",
   "metadata": {},
   "source": [
    "Why is the home field advantage in the Scotland Premier League so small?"
   ]
  },
  {
   "cell_type": "markdown",
   "metadata": {},
   "source": [
    "Engaging in a few quick comparisons, I also observed that the Scotland Premier League has the highest winning percentage of any league in the dataset, and the second lowest losing percentage of any league.\n",
    "\n",
    "In other words, the Scotland Premier League has the greatest parity among teams in any league. "
   ]
  },
  {
   "cell_type": "code",
   "execution_count": 34,
   "metadata": {},
   "outputs": [
    {
     "data": {
      "text/plain": [
       "league_name\n",
       "France Ligue 1              30.779143\n",
       "Portugal Liga ZON Sagres    30.974138\n",
       "Italy Serie A               31.371563\n",
       "Germany 1. Bundesliga       31.685667\n",
       "England Premier League      32.602647\n",
       "Spain LIGA BBVA             33.450303\n",
       "Switzerland Super League    33.548667\n",
       "Belgium Jupiler League      33.670417\n",
       "Netherlands Eredivisie      33.684800\n",
       "Poland Ekstraklasa          34.380909\n",
       "Scotland Premier League     35.270000\n",
       "Name: Win_%, dtype: float64"
      ]
     },
     "execution_count": 34,
     "metadata": {},
     "output_type": "execute_result"
    }
   ],
   "source": [
    "df.groupby(['league_name'])['Win_%'].mean().sort_values().tail(12)"
   ]
  },
  {
   "cell_type": "code",
   "execution_count": 35,
   "metadata": {},
   "outputs": [
    {
     "data": {
      "text/plain": [
       "league_name\n",
       "Poland Ekstraklasa         38.146818\n",
       "Scotland Premier League    39.585882\n",
       "France Ligue 1             41.487429\n",
       "England Premier League     41.775882\n",
       "Belgium Jupiler League     41.978750\n",
       "Name: Loss_%, dtype: float64"
      ]
     },
     "execution_count": 35,
     "metadata": {},
     "output_type": "execute_result"
    }
   ],
   "source": [
    "df.groupby(['league_name'])['Loss_%'].mean().sort_values().head(5)"
   ]
  },
  {
   "cell_type": "markdown",
   "metadata": {},
   "source": [
    "My tentative claim, which would need to be buttressed by further research is that the Scotland Premier League has greater parity among teams than other leagues because there is greater equality among teams in terms of budgets and talent."
   ]
  },
  {
   "cell_type": "code",
   "execution_count": null,
   "metadata": {},
   "outputs": [],
   "source": []
  }
 ],
 "metadata": {
  "kernelspec": {
   "display_name": "Python [conda env:learn-env] *",
   "language": "python",
   "name": "conda-env-learn-env-py"
  },
  "language_info": {
   "codemirror_mode": {
    "name": "ipython",
    "version": 3
   },
   "file_extension": ".py",
   "mimetype": "text/x-python",
   "name": "python",
   "nbconvert_exporter": "python",
   "pygments_lexer": "ipython3",
   "version": "3.6.6"
  }
 },
 "nbformat": 4,
 "nbformat_minor": 2
}
