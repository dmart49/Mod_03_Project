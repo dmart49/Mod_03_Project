{
 "cells": [
  {
   "cell_type": "markdown",
   "metadata": {},
   "source": [
    "<h1> Is there a statistical difference in the odds of winning a game when a team is playing in front of a home crowd?</h1>"
   ]
  },
  {
   "cell_type": "markdown",
   "metadata": {},
   "source": [
    "<h3> Null Hypothesis:</h3> <b>There is no difference in projected win percentage between playing at a home field and playing in an away field.</b>\n",
    "\n",
    "<h3> Alternative Hypothesis</h3> <b>There is a statistical advantage in being able to play with a home field.</b>"
   ]
  },
  {
   "cell_type": "markdown",
   "metadata": {},
   "source": [
    "<h2> Observation </h2>\n",
    "Our goal is to determine how we should be handicapping our models to project a difference in home versus away games - with consistent enough evidence, this can be used to calculate betting lines in a way that would only require the relative strengths of the teams. Then a handicap can be applied to these predictions accounting for Home and Away field advantages."
   ]
  },
  {
   "cell_type": "markdown",
   "metadata": {},
   "source": [
    "<h2> Experiment </h2>\n",
    "Our experiment has been conducted other times with other contributors to this data set, including <a href = \"https://www.kaggle.com/aiyoyo/exploring-home-team-advantage\"> this experiment</a>. Here we are going to be applying a T Test to our normalized Sample Distributions of Sample Means of the averages of both Home and Away wins to determine a p-score as to the likelihood that home field advantage plays a role.\n",
    "\n",
    "Our dataset contains much more information than we would otherwise need to conduct this analysis, some of which we may use for further questions. The entire dataset's structure looks like:\n",
    "\n",
    "Table | Total Rows | Total Columns | Columns (edited for relevance)\n",
    "--- | :- | :--- | :---:\n",
    "Country | 11 | 2 | id, name\n",
    "League | 11 | 3 | id, country_id, name\n",
    "Match | 25979 | 115 | id, country_id, league_id, season, stage, date, match_api_id, home_team_api_id, away_team_api_id, home_team_goal, away_team_goal, (others)\n",
    "Player | 11060 | 7 | id, player_api_id, player_name, player_fifa_api_id, birthday, height, weight\n",
    "Player_Attributes | 183978 | 42 | id, player_fifa_api_id, player_api_id, date, overall_rating, (other FIFA related statistics)\n",
    "sqlite_sequence | 7 | 2 | name, seq\n",
    "Team | 299 | 5 | id, team_api_id, team_fifa_api_id, team_long_name, team_short_name\n",
    "Team_Attributes | 1458 | 25 | d, team_fifa_api_id, team_api_id, date, buildUpPlaySpeed, buildUpPlaySpeedClass, buildUpPlayDribbling, buildUpPlayDribblingClass, buildUpPlayPassing, buildUpPlayPassingClass, buildUpPlayPositioningClass, chanceCreationPassing,  chanceCreationCrossing, chanceCreationShooting, defencePressure, defenceAggression,  defenceTeamWidth, (other Class related Attributes)"
   ]
  },
  {
   "cell_type": "markdown",
   "metadata": {},
   "source": [
    "<h2> Analysis </h2>"
   ]
  },
  {
   "cell_type": "markdown",
   "metadata": {},
   "source": [
    "<b>Importing Libraries</b>"
   ]
  },
  {
   "cell_type": "code",
   "execution_count": 35,
   "metadata": {},
   "outputs": [],
   "source": [
    "import sqlite3 \n",
    "conn = sqlite3.connect('zdata.sqlite')\n",
    "c = conn.cursor()\n",
    "\n",
    "import pandas as pd\n",
    "import numpy as np\n",
    "import seaborn as sns\n",
    "import matplotlib.pyplot as plt\n",
    "from matplotlib import rcParams\n",
    "%matplotlib inline"
   ]
  },
  {
   "cell_type": "markdown",
   "metadata": {},
   "source": [
    "First, we are going to start with a couple of queries from the relevant tables that we want to use, really just querying everything and then adding the column names to our Pandas Dataframe. Let's do this with our Match SQLite Data. "
   ]
  },
  {
   "cell_type": "code",
   "execution_count": 10,
   "metadata": {},
   "outputs": [
    {
     "data": {
      "text/html": [
       "<div>\n",
       "<style scoped>\n",
       "    .dataframe tbody tr th:only-of-type {\n",
       "        vertical-align: middle;\n",
       "    }\n",
       "\n",
       "    .dataframe tbody tr th {\n",
       "        vertical-align: top;\n",
       "    }\n",
       "\n",
       "    .dataframe thead th {\n",
       "        text-align: right;\n",
       "    }\n",
       "</style>\n",
       "<table border=\"1\" class=\"dataframe\">\n",
       "  <thead>\n",
       "    <tr style=\"text-align: right;\">\n",
       "      <th></th>\n",
       "      <th>id</th>\n",
       "      <th>country_id</th>\n",
       "      <th>league_id</th>\n",
       "      <th>season</th>\n",
       "      <th>stage</th>\n",
       "      <th>date</th>\n",
       "      <th>match_api_id</th>\n",
       "      <th>home_team_api_id</th>\n",
       "      <th>away_team_api_id</th>\n",
       "      <th>home_team_goal</th>\n",
       "      <th>...</th>\n",
       "      <th>SJA</th>\n",
       "      <th>VCH</th>\n",
       "      <th>VCD</th>\n",
       "      <th>VCA</th>\n",
       "      <th>GBH</th>\n",
       "      <th>GBD</th>\n",
       "      <th>GBA</th>\n",
       "      <th>BSH</th>\n",
       "      <th>BSD</th>\n",
       "      <th>BSA</th>\n",
       "    </tr>\n",
       "  </thead>\n",
       "  <tbody>\n",
       "    <tr>\n",
       "      <th>0</th>\n",
       "      <td>1</td>\n",
       "      <td>1</td>\n",
       "      <td>1</td>\n",
       "      <td>2008/2009</td>\n",
       "      <td>1</td>\n",
       "      <td>2008-08-17 00:00:00</td>\n",
       "      <td>492473</td>\n",
       "      <td>9987</td>\n",
       "      <td>9993</td>\n",
       "      <td>1</td>\n",
       "      <td>...</td>\n",
       "      <td>4.00</td>\n",
       "      <td>1.65</td>\n",
       "      <td>3.40</td>\n",
       "      <td>4.50</td>\n",
       "      <td>1.78</td>\n",
       "      <td>3.25</td>\n",
       "      <td>4.00</td>\n",
       "      <td>1.73</td>\n",
       "      <td>3.40</td>\n",
       "      <td>4.20</td>\n",
       "    </tr>\n",
       "    <tr>\n",
       "      <th>1</th>\n",
       "      <td>2</td>\n",
       "      <td>1</td>\n",
       "      <td>1</td>\n",
       "      <td>2008/2009</td>\n",
       "      <td>1</td>\n",
       "      <td>2008-08-16 00:00:00</td>\n",
       "      <td>492474</td>\n",
       "      <td>10000</td>\n",
       "      <td>9994</td>\n",
       "      <td>0</td>\n",
       "      <td>...</td>\n",
       "      <td>3.80</td>\n",
       "      <td>2.00</td>\n",
       "      <td>3.25</td>\n",
       "      <td>3.25</td>\n",
       "      <td>1.85</td>\n",
       "      <td>3.25</td>\n",
       "      <td>3.75</td>\n",
       "      <td>1.91</td>\n",
       "      <td>3.25</td>\n",
       "      <td>3.60</td>\n",
       "    </tr>\n",
       "    <tr>\n",
       "      <th>2</th>\n",
       "      <td>3</td>\n",
       "      <td>1</td>\n",
       "      <td>1</td>\n",
       "      <td>2008/2009</td>\n",
       "      <td>1</td>\n",
       "      <td>2008-08-16 00:00:00</td>\n",
       "      <td>492475</td>\n",
       "      <td>9984</td>\n",
       "      <td>8635</td>\n",
       "      <td>0</td>\n",
       "      <td>...</td>\n",
       "      <td>2.50</td>\n",
       "      <td>2.35</td>\n",
       "      <td>3.25</td>\n",
       "      <td>2.65</td>\n",
       "      <td>2.50</td>\n",
       "      <td>3.20</td>\n",
       "      <td>2.50</td>\n",
       "      <td>2.30</td>\n",
       "      <td>3.20</td>\n",
       "      <td>2.75</td>\n",
       "    </tr>\n",
       "    <tr>\n",
       "      <th>3</th>\n",
       "      <td>4</td>\n",
       "      <td>1</td>\n",
       "      <td>1</td>\n",
       "      <td>2008/2009</td>\n",
       "      <td>1</td>\n",
       "      <td>2008-08-17 00:00:00</td>\n",
       "      <td>492476</td>\n",
       "      <td>9991</td>\n",
       "      <td>9998</td>\n",
       "      <td>5</td>\n",
       "      <td>...</td>\n",
       "      <td>7.50</td>\n",
       "      <td>1.45</td>\n",
       "      <td>3.75</td>\n",
       "      <td>6.50</td>\n",
       "      <td>1.50</td>\n",
       "      <td>3.75</td>\n",
       "      <td>5.50</td>\n",
       "      <td>1.44</td>\n",
       "      <td>3.75</td>\n",
       "      <td>6.50</td>\n",
       "    </tr>\n",
       "    <tr>\n",
       "      <th>4</th>\n",
       "      <td>5</td>\n",
       "      <td>1</td>\n",
       "      <td>1</td>\n",
       "      <td>2008/2009</td>\n",
       "      <td>1</td>\n",
       "      <td>2008-08-16 00:00:00</td>\n",
       "      <td>492477</td>\n",
       "      <td>7947</td>\n",
       "      <td>9985</td>\n",
       "      <td>1</td>\n",
       "      <td>...</td>\n",
       "      <td>1.73</td>\n",
       "      <td>4.50</td>\n",
       "      <td>3.40</td>\n",
       "      <td>1.65</td>\n",
       "      <td>4.50</td>\n",
       "      <td>3.50</td>\n",
       "      <td>1.65</td>\n",
       "      <td>4.75</td>\n",
       "      <td>3.30</td>\n",
       "      <td>1.67</td>\n",
       "    </tr>\n",
       "  </tbody>\n",
       "</table>\n",
       "<p>5 rows × 115 columns</p>\n",
       "</div>"
      ],
      "text/plain": [
       "   id  country_id  league_id     season  stage                 date  \\\n",
       "0   1           1          1  2008/2009      1  2008-08-17 00:00:00   \n",
       "1   2           1          1  2008/2009      1  2008-08-16 00:00:00   \n",
       "2   3           1          1  2008/2009      1  2008-08-16 00:00:00   \n",
       "3   4           1          1  2008/2009      1  2008-08-17 00:00:00   \n",
       "4   5           1          1  2008/2009      1  2008-08-16 00:00:00   \n",
       "\n",
       "   match_api_id  home_team_api_id  away_team_api_id  home_team_goal  ...  \\\n",
       "0        492473              9987              9993               1  ...   \n",
       "1        492474             10000              9994               0  ...   \n",
       "2        492475              9984              8635               0  ...   \n",
       "3        492476              9991              9998               5  ...   \n",
       "4        492477              7947              9985               1  ...   \n",
       "\n",
       "    SJA   VCH   VCD   VCA   GBH   GBD   GBA   BSH   BSD   BSA  \n",
       "0  4.00  1.65  3.40  4.50  1.78  3.25  4.00  1.73  3.40  4.20  \n",
       "1  3.80  2.00  3.25  3.25  1.85  3.25  3.75  1.91  3.25  3.60  \n",
       "2  2.50  2.35  3.25  2.65  2.50  3.20  2.50  2.30  3.20  2.75  \n",
       "3  7.50  1.45  3.75  6.50  1.50  3.75  5.50  1.44  3.75  6.50  \n",
       "4  1.73  4.50  3.40  1.65  4.50  3.50  1.65  4.75  3.30  1.67  \n",
       "\n",
       "[5 rows x 115 columns]"
      ]
     },
     "execution_count": 10,
     "metadata": {},
     "output_type": "execute_result"
    }
   ],
   "source": [
    "query = \"\"\"\n",
    "SELECT *\n",
    "FROM Match\n",
    "\"\"\"\n",
    "c.execute(query)\n",
    "data = c.fetchall()\n",
    "df3 = pd.DataFrame(data)\n",
    "column_names3 = []\n",
    "for x in range(len(c.description)):\n",
    "    column3 = c.description[x] \n",
    "    column_names3.append(column3[0])\n",
    "Match = df3\n",
    "Match.columns = column_names3\n",
    "Match.head()"
   ]
  },
  {
   "cell_type": "markdown",
   "metadata": {},
   "source": [
    "To get a better look at some of the data we are going go join and assess, we also want to do this same query with our League data..."
   ]
  },
  {
   "cell_type": "code",
   "execution_count": 11,
   "metadata": {},
   "outputs": [
    {
     "data": {
      "text/html": [
       "<div>\n",
       "<style scoped>\n",
       "    .dataframe tbody tr th:only-of-type {\n",
       "        vertical-align: middle;\n",
       "    }\n",
       "\n",
       "    .dataframe tbody tr th {\n",
       "        vertical-align: top;\n",
       "    }\n",
       "\n",
       "    .dataframe thead th {\n",
       "        text-align: right;\n",
       "    }\n",
       "</style>\n",
       "<table border=\"1\" class=\"dataframe\">\n",
       "  <thead>\n",
       "    <tr style=\"text-align: right;\">\n",
       "      <th></th>\n",
       "      <th>id</th>\n",
       "      <th>country_id</th>\n",
       "      <th>name</th>\n",
       "    </tr>\n",
       "  </thead>\n",
       "  <tbody>\n",
       "    <tr>\n",
       "      <th>0</th>\n",
       "      <td>1</td>\n",
       "      <td>1</td>\n",
       "      <td>Belgium Jupiler League</td>\n",
       "    </tr>\n",
       "    <tr>\n",
       "      <th>1</th>\n",
       "      <td>1729</td>\n",
       "      <td>1729</td>\n",
       "      <td>England Premier League</td>\n",
       "    </tr>\n",
       "    <tr>\n",
       "      <th>2</th>\n",
       "      <td>4769</td>\n",
       "      <td>4769</td>\n",
       "      <td>France Ligue 1</td>\n",
       "    </tr>\n",
       "    <tr>\n",
       "      <th>3</th>\n",
       "      <td>7809</td>\n",
       "      <td>7809</td>\n",
       "      <td>Germany 1. Bundesliga</td>\n",
       "    </tr>\n",
       "    <tr>\n",
       "      <th>4</th>\n",
       "      <td>10257</td>\n",
       "      <td>10257</td>\n",
       "      <td>Italy Serie A</td>\n",
       "    </tr>\n",
       "  </tbody>\n",
       "</table>\n",
       "</div>"
      ],
      "text/plain": [
       "      id  country_id                    name\n",
       "0      1           1  Belgium Jupiler League\n",
       "1   1729        1729  England Premier League\n",
       "2   4769        4769          France Ligue 1\n",
       "3   7809        7809   Germany 1. Bundesliga\n",
       "4  10257       10257           Italy Serie A"
      ]
     },
     "execution_count": 11,
     "metadata": {},
     "output_type": "execute_result"
    }
   ],
   "source": [
    "query = \"\"\"\n",
    "SELECT *\n",
    "FROM League\n",
    "\"\"\"\n",
    "c.execute(query)\n",
    "data = c.fetchall()\n",
    "df2 = pd.DataFrame(data)\n",
    "column_names2 = []\n",
    "for x in range(len(c.description)):\n",
    "    column2 = c.description[x] \n",
    "    column_names2.append(column2[0])\n",
    "League = df2\n",
    "League.columns = column_names2\n",
    "League.head()"
   ]
  },
  {
   "cell_type": "markdown",
   "metadata": {},
   "source": [
    "as well as our Team data."
   ]
  },
  {
   "cell_type": "code",
   "execution_count": 14,
   "metadata": {},
   "outputs": [
    {
     "data": {
      "text/html": [
       "<div>\n",
       "<style scoped>\n",
       "    .dataframe tbody tr th:only-of-type {\n",
       "        vertical-align: middle;\n",
       "    }\n",
       "\n",
       "    .dataframe tbody tr th {\n",
       "        vertical-align: top;\n",
       "    }\n",
       "\n",
       "    .dataframe thead th {\n",
       "        text-align: right;\n",
       "    }\n",
       "</style>\n",
       "<table border=\"1\" class=\"dataframe\">\n",
       "  <thead>\n",
       "    <tr style=\"text-align: right;\">\n",
       "      <th></th>\n",
       "      <th>id</th>\n",
       "      <th>team_api_id</th>\n",
       "      <th>team_fifa_api_id</th>\n",
       "      <th>team_long_name</th>\n",
       "      <th>team_short_name</th>\n",
       "    </tr>\n",
       "  </thead>\n",
       "  <tbody>\n",
       "    <tr>\n",
       "      <th>0</th>\n",
       "      <td>1</td>\n",
       "      <td>9987</td>\n",
       "      <td>673.0</td>\n",
       "      <td>KRC Genk</td>\n",
       "      <td>GEN</td>\n",
       "    </tr>\n",
       "    <tr>\n",
       "      <th>1</th>\n",
       "      <td>2</td>\n",
       "      <td>9993</td>\n",
       "      <td>675.0</td>\n",
       "      <td>Beerschot AC</td>\n",
       "      <td>BAC</td>\n",
       "    </tr>\n",
       "    <tr>\n",
       "      <th>2</th>\n",
       "      <td>3</td>\n",
       "      <td>10000</td>\n",
       "      <td>15005.0</td>\n",
       "      <td>SV Zulte-Waregem</td>\n",
       "      <td>ZUL</td>\n",
       "    </tr>\n",
       "    <tr>\n",
       "      <th>3</th>\n",
       "      <td>4</td>\n",
       "      <td>9994</td>\n",
       "      <td>2007.0</td>\n",
       "      <td>Sporting Lokeren</td>\n",
       "      <td>LOK</td>\n",
       "    </tr>\n",
       "    <tr>\n",
       "      <th>4</th>\n",
       "      <td>5</td>\n",
       "      <td>9984</td>\n",
       "      <td>1750.0</td>\n",
       "      <td>KSV Cercle Brugge</td>\n",
       "      <td>CEB</td>\n",
       "    </tr>\n",
       "  </tbody>\n",
       "</table>\n",
       "</div>"
      ],
      "text/plain": [
       "   id  team_api_id  team_fifa_api_id     team_long_name team_short_name\n",
       "0   1         9987             673.0           KRC Genk             GEN\n",
       "1   2         9993             675.0       Beerschot AC             BAC\n",
       "2   3        10000           15005.0   SV Zulte-Waregem             ZUL\n",
       "3   4         9994            2007.0   Sporting Lokeren             LOK\n",
       "4   5         9984            1750.0  KSV Cercle Brugge             CEB"
      ]
     },
     "execution_count": 14,
     "metadata": {},
     "output_type": "execute_result"
    }
   ],
   "source": [
    "query = \"\"\"\n",
    "SELECT *\n",
    "FROM Team\n",
    "\"\"\"\n",
    "c.execute(query)\n",
    "data = c.fetchall()\n",
    "df7 = pd.DataFrame(data)\n",
    "column_names7 = []\n",
    "for x in range(len(c.description)):\n",
    "    column7 = c.description[x] \n",
    "    column_names7.append(column7[0])\n",
    "Team = df7\n",
    "Team.columns = column_names7\n",
    "Team.head()"
   ]
  },
  {
   "cell_type": "markdown",
   "metadata": {},
   "source": [
    "Getting the information on these Tables isn't really doing a whole lot for us, but you'll notice that our more advanced SQL Query below involves joining information in all three of these tables.\n",
    "\n",
    "Now that we have a better look at what these particular tables look like, we can join the information we need as well as add some columns that may be useful to us in our attempt to answer our Hypothesis. In this case, we will need to add some columns that haven't yet been created in this Dataset. \n",
    "<br>-Which one of the individual matches listed in our dataset resulted in Home Wins? \n",
    "<br>-Which of the matches resulted in Away Wins? \n",
    "<br>Which ones resulted in Draws? For our Hypothesis in Question 1, we won't be doing much with the Draw data, but it is still nice to have."
   ]
  },
  {
   "cell_type": "code",
   "execution_count": 15,
   "metadata": {},
   "outputs": [
    {
     "data": {
      "text/html": [
       "<div>\n",
       "<style scoped>\n",
       "    .dataframe tbody tr th:only-of-type {\n",
       "        vertical-align: middle;\n",
       "    }\n",
       "\n",
       "    .dataframe tbody tr th {\n",
       "        vertical-align: top;\n",
       "    }\n",
       "\n",
       "    .dataframe thead th {\n",
       "        text-align: right;\n",
       "    }\n",
       "</style>\n",
       "<table border=\"1\" class=\"dataframe\">\n",
       "  <thead>\n",
       "    <tr style=\"text-align: right;\">\n",
       "      <th></th>\n",
       "      <th>id</th>\n",
       "      <th>league_name</th>\n",
       "      <th>season</th>\n",
       "      <th>home_team</th>\n",
       "      <th>away_team</th>\n",
       "      <th>home_team_goal</th>\n",
       "      <th>away_team_goal</th>\n",
       "      <th>HomeWin</th>\n",
       "      <th>AwayWin</th>\n",
       "      <th>Draw</th>\n",
       "    </tr>\n",
       "  </thead>\n",
       "  <tbody>\n",
       "    <tr>\n",
       "      <th>0</th>\n",
       "      <td>8437</td>\n",
       "      <td>Germany 1. Bundesliga</td>\n",
       "      <td>2010/2011</td>\n",
       "      <td>1. FC Kaiserslautern</td>\n",
       "      <td>Borussia Mönchengladbach</td>\n",
       "      <td>3</td>\n",
       "      <td>0</td>\n",
       "      <td>1</td>\n",
       "      <td>0</td>\n",
       "      <td>0</td>\n",
       "    </tr>\n",
       "    <tr>\n",
       "      <th>1</th>\n",
       "      <td>8455</td>\n",
       "      <td>Germany 1. Bundesliga</td>\n",
       "      <td>2010/2011</td>\n",
       "      <td>1. FC Kaiserslautern</td>\n",
       "      <td>VfB Stuttgart</td>\n",
       "      <td>3</td>\n",
       "      <td>3</td>\n",
       "      <td>0</td>\n",
       "      <td>0</td>\n",
       "      <td>1</td>\n",
       "    </tr>\n",
       "    <tr>\n",
       "      <th>2</th>\n",
       "      <td>8474</td>\n",
       "      <td>Germany 1. Bundesliga</td>\n",
       "      <td>2010/2011</td>\n",
       "      <td>1. FC Kaiserslautern</td>\n",
       "      <td>FC Schalke 04</td>\n",
       "      <td>5</td>\n",
       "      <td>0</td>\n",
       "      <td>1</td>\n",
       "      <td>0</td>\n",
       "      <td>0</td>\n",
       "    </tr>\n",
       "    <tr>\n",
       "      <th>3</th>\n",
       "      <td>8492</td>\n",
       "      <td>Germany 1. Bundesliga</td>\n",
       "      <td>2010/2011</td>\n",
       "      <td>1. FC Kaiserslautern</td>\n",
       "      <td>VfL Wolfsburg</td>\n",
       "      <td>0</td>\n",
       "      <td>0</td>\n",
       "      <td>0</td>\n",
       "      <td>0</td>\n",
       "      <td>1</td>\n",
       "    </tr>\n",
       "    <tr>\n",
       "      <th>4</th>\n",
       "      <td>8509</td>\n",
       "      <td>Germany 1. Bundesliga</td>\n",
       "      <td>2010/2011</td>\n",
       "      <td>1. FC Kaiserslautern</td>\n",
       "      <td>1. FC Köln</td>\n",
       "      <td>1</td>\n",
       "      <td>1</td>\n",
       "      <td>0</td>\n",
       "      <td>0</td>\n",
       "      <td>1</td>\n",
       "    </tr>\n",
       "  </tbody>\n",
       "</table>\n",
       "</div>"
      ],
      "text/plain": [
       "     id            league_name     season             home_team  \\\n",
       "0  8437  Germany 1. Bundesliga  2010/2011  1. FC Kaiserslautern   \n",
       "1  8455  Germany 1. Bundesliga  2010/2011  1. FC Kaiserslautern   \n",
       "2  8474  Germany 1. Bundesliga  2010/2011  1. FC Kaiserslautern   \n",
       "3  8492  Germany 1. Bundesliga  2010/2011  1. FC Kaiserslautern   \n",
       "4  8509  Germany 1. Bundesliga  2010/2011  1. FC Kaiserslautern   \n",
       "\n",
       "                  away_team  home_team_goal  away_team_goal  HomeWin  AwayWin  \\\n",
       "0  Borussia Mönchengladbach               3               0        1        0   \n",
       "1             VfB Stuttgart               3               3        0        0   \n",
       "2             FC Schalke 04               5               0        1        0   \n",
       "3             VfL Wolfsburg               0               0        0        0   \n",
       "4                1. FC Köln               1               1        0        0   \n",
       "\n",
       "   Draw  \n",
       "0     0  \n",
       "1     1  \n",
       "2     0  \n",
       "3     1  \n",
       "4     1  "
      ]
     },
     "execution_count": 15,
     "metadata": {},
     "output_type": "execute_result"
    }
   ],
   "source": [
    "CustomZ_match = pd.read_sql(\"\"\"SELECT Match.id,  \n",
    "                                        League.name AS league_name, \n",
    "                                        season,\n",
    "                                        HT.team_long_name AS  home_team,\n",
    "                                        AT.team_long_name AS away_team,\n",
    "                                        home_team_goal, \n",
    "                                        away_team_goal                                        \n",
    "                                FROM Match\n",
    "                                JOIN League on League.id = Match.league_id\n",
    "                                JOIN Team AS HT on HT.team_api_id = Match.home_team_api_id\n",
    "                                JOIN Team AS AT on AT.team_api_id = Match.away_team_api_id\n",
    "                                ORDER by home_team;\"\"\", conn)\n",
    "CustomZ_match['HomeWin'] = 0\n",
    "CustomZ_match.loc[CustomZ_match['home_team_goal'] > CustomZ_match['away_team_goal'], \"HomeWin\"] = 1\n",
    "CustomZ_match['AwayWin'] = 0\n",
    "CustomZ_match.loc[CustomZ_match['away_team_goal'] > CustomZ_match['home_team_goal'], \"AwayWin\"] = 1\n",
    "CustomZ_match['Draw'] = 0\n",
    "CustomZ_match.loc[CustomZ_match['home_team_goal'] == CustomZ_match['away_team_goal'], \"Draw\"] = 1\n",
    "CustomZ_match.head()"
   ]
  },
  {
   "cell_type": "markdown",
   "metadata": {},
   "source": [
    "This shows us an table with individual matches showing the Home Wins, Away Wins, and Draws, ordered by the Home Team. The next step here is to apply the sums of these values to two separate charts and then graph these charts."
   ]
  },
  {
   "cell_type": "code",
   "execution_count": 17,
   "metadata": {},
   "outputs": [
    {
     "data": {
      "text/html": [
       "<div>\n",
       "<style scoped>\n",
       "    .dataframe tbody tr th:only-of-type {\n",
       "        vertical-align: middle;\n",
       "    }\n",
       "\n",
       "    .dataframe tbody tr th {\n",
       "        vertical-align: top;\n",
       "    }\n",
       "\n",
       "    .dataframe thead th {\n",
       "        text-align: right;\n",
       "    }\n",
       "</style>\n",
       "<table border=\"1\" class=\"dataframe\">\n",
       "  <thead>\n",
       "    <tr style=\"text-align: right;\">\n",
       "      <th></th>\n",
       "      <th>id</th>\n",
       "      <th>home_team_goal</th>\n",
       "      <th>away_team_goal</th>\n",
       "      <th>HomeWin</th>\n",
       "      <th>AwayWin</th>\n",
       "      <th>Draw</th>\n",
       "    </tr>\n",
       "    <tr>\n",
       "      <th>home_team</th>\n",
       "      <th></th>\n",
       "      <th></th>\n",
       "      <th></th>\n",
       "      <th></th>\n",
       "      <th></th>\n",
       "      <th></th>\n",
       "    </tr>\n",
       "  </thead>\n",
       "  <tbody>\n",
       "    <tr>\n",
       "      <th>1. FC Kaiserslautern</th>\n",
       "      <td>296780</td>\n",
       "      <td>37</td>\n",
       "      <td>47</td>\n",
       "      <td>8</td>\n",
       "      <td>15</td>\n",
       "      <td>11</td>\n",
       "    </tr>\n",
       "    <tr>\n",
       "      <th>1. FC Köln</th>\n",
       "      <td>911073</td>\n",
       "      <td>116</td>\n",
       "      <td>139</td>\n",
       "      <td>32</td>\n",
       "      <td>39</td>\n",
       "      <td>31</td>\n",
       "    </tr>\n",
       "    <tr>\n",
       "      <th>1. FC Nürnberg</th>\n",
       "      <td>755016</td>\n",
       "      <td>108</td>\n",
       "      <td>118</td>\n",
       "      <td>30</td>\n",
       "      <td>34</td>\n",
       "      <td>21</td>\n",
       "    </tr>\n",
       "    <tr>\n",
       "      <th>1. FSV Mainz 05</th>\n",
       "      <td>1093063</td>\n",
       "      <td>171</td>\n",
       "      <td>129</td>\n",
       "      <td>55</td>\n",
       "      <td>35</td>\n",
       "      <td>29</td>\n",
       "    </tr>\n",
       "    <tr>\n",
       "      <th>AC Ajaccio</th>\n",
       "      <td>368804</td>\n",
       "      <td>64</td>\n",
       "      <td>77</td>\n",
       "      <td>16</td>\n",
       "      <td>22</td>\n",
       "      <td>19</td>\n",
       "    </tr>\n",
       "  </tbody>\n",
       "</table>\n",
       "</div>"
      ],
      "text/plain": [
       "                           id  home_team_goal  away_team_goal  HomeWin  \\\n",
       "home_team                                                                \n",
       "1. FC Kaiserslautern   296780              37              47        8   \n",
       "1. FC Köln             911073             116             139       32   \n",
       "1. FC Nürnberg         755016             108             118       30   \n",
       "1. FSV Mainz 05       1093063             171             129       55   \n",
       "AC Ajaccio             368804              64              77       16   \n",
       "\n",
       "                      AwayWin  Draw  \n",
       "home_team                            \n",
       "1. FC Kaiserslautern       15    11  \n",
       "1. FC Köln                 39    31  \n",
       "1. FC Nürnberg             34    21  \n",
       "1. FSV Mainz 05            35    29  \n",
       "AC Ajaccio                 22    19  "
      ]
     },
     "execution_count": 17,
     "metadata": {},
     "output_type": "execute_result"
    }
   ],
   "source": [
    "HomeZZ= CustomZ_match.groupby(['home_team']).sum()\n",
    "HomeZZ.head()"
   ]
  },
  {
   "cell_type": "markdown",
   "metadata": {},
   "source": [
    "I can also do this with the Away Teams. With the combined wins for Home Teams and away teams, we can make charts showing the odds of winning Home and Away games."
   ]
  },
  {
   "cell_type": "code",
   "execution_count": 18,
   "metadata": {},
   "outputs": [
    {
     "data": {
      "text/html": [
       "<div>\n",
       "<style scoped>\n",
       "    .dataframe tbody tr th:only-of-type {\n",
       "        vertical-align: middle;\n",
       "    }\n",
       "\n",
       "    .dataframe tbody tr th {\n",
       "        vertical-align: top;\n",
       "    }\n",
       "\n",
       "    .dataframe thead th {\n",
       "        text-align: right;\n",
       "    }\n",
       "</style>\n",
       "<table border=\"1\" class=\"dataframe\">\n",
       "  <thead>\n",
       "    <tr style=\"text-align: right;\">\n",
       "      <th></th>\n",
       "      <th>id</th>\n",
       "      <th>home_team_goal</th>\n",
       "      <th>away_team_goal</th>\n",
       "      <th>HomeWin</th>\n",
       "      <th>AwayWin</th>\n",
       "      <th>Draw</th>\n",
       "    </tr>\n",
       "    <tr>\n",
       "      <th>away_team</th>\n",
       "      <th></th>\n",
       "      <th></th>\n",
       "      <th></th>\n",
       "      <th></th>\n",
       "      <th></th>\n",
       "      <th></th>\n",
       "    </tr>\n",
       "  </thead>\n",
       "  <tbody>\n",
       "    <tr>\n",
       "      <th>1. FC Kaiserslautern</th>\n",
       "      <td>296686</td>\n",
       "      <td>58</td>\n",
       "      <td>35</td>\n",
       "      <td>18</td>\n",
       "      <td>9</td>\n",
       "      <td>7</td>\n",
       "    </tr>\n",
       "    <tr>\n",
       "      <th>1. FC Köln</th>\n",
       "      <td>910947</td>\n",
       "      <td>172</td>\n",
       "      <td>110</td>\n",
       "      <td>51</td>\n",
       "      <td>28</td>\n",
       "      <td>23</td>\n",
       "    </tr>\n",
       "    <tr>\n",
       "      <th>1. FC Nürnberg</th>\n",
       "      <td>754592</td>\n",
       "      <td>151</td>\n",
       "      <td>85</td>\n",
       "      <td>44</td>\n",
       "      <td>19</td>\n",
       "      <td>22</td>\n",
       "    </tr>\n",
       "    <tr>\n",
       "      <th>1. FSV Mainz 05</th>\n",
       "      <td>1093199</td>\n",
       "      <td>190</td>\n",
       "      <td>149</td>\n",
       "      <td>50</td>\n",
       "      <td>33</td>\n",
       "      <td>36</td>\n",
       "    </tr>\n",
       "    <tr>\n",
       "      <th>AC Ajaccio</th>\n",
       "      <td>369557</td>\n",
       "      <td>107</td>\n",
       "      <td>52</td>\n",
       "      <td>30</td>\n",
       "      <td>6</td>\n",
       "      <td>21</td>\n",
       "    </tr>\n",
       "  </tbody>\n",
       "</table>\n",
       "</div>"
      ],
      "text/plain": [
       "                           id  home_team_goal  away_team_goal  HomeWin  \\\n",
       "away_team                                                                \n",
       "1. FC Kaiserslautern   296686              58              35       18   \n",
       "1. FC Köln             910947             172             110       51   \n",
       "1. FC Nürnberg         754592             151              85       44   \n",
       "1. FSV Mainz 05       1093199             190             149       50   \n",
       "AC Ajaccio             369557             107              52       30   \n",
       "\n",
       "                      AwayWin  Draw  \n",
       "away_team                            \n",
       "1. FC Kaiserslautern        9     7  \n",
       "1. FC Köln                 28    23  \n",
       "1. FC Nürnberg             19    22  \n",
       "1. FSV Mainz 05            33    36  \n",
       "AC Ajaccio                  6    21  "
      ]
     },
     "execution_count": 18,
     "metadata": {},
     "output_type": "execute_result"
    }
   ],
   "source": [
    "AwayZZ= CustomZ_match.groupby(['away_team']).sum()\n",
    "AwayZZ.head()"
   ]
  },
  {
   "cell_type": "markdown",
   "metadata": {},
   "source": [
    "You'll notice that because we used the ```groupby``` function, the index of these tables is now set to the Home Team and the Away Team. The way I have chosen to calculate the odds of winning, we are going to need these Indexes to be reset. I can do that with the ```reset_index``` function."
   ]
  },
  {
   "cell_type": "code",
   "execution_count": 22,
   "metadata": {},
   "outputs": [
    {
     "data": {
      "text/html": [
       "<div>\n",
       "<style scoped>\n",
       "    .dataframe tbody tr th:only-of-type {\n",
       "        vertical-align: middle;\n",
       "    }\n",
       "\n",
       "    .dataframe tbody tr th {\n",
       "        vertical-align: top;\n",
       "    }\n",
       "\n",
       "    .dataframe thead th {\n",
       "        text-align: right;\n",
       "    }\n",
       "</style>\n",
       "<table border=\"1\" class=\"dataframe\">\n",
       "  <thead>\n",
       "    <tr style=\"text-align: right;\">\n",
       "      <th></th>\n",
       "      <th>Team</th>\n",
       "      <th>Odds of Winning Home Games</th>\n",
       "    </tr>\n",
       "  </thead>\n",
       "  <tbody>\n",
       "    <tr>\n",
       "      <th>0</th>\n",
       "      <td>1. FC Kaiserslautern</td>\n",
       "      <td>0.235294</td>\n",
       "    </tr>\n",
       "    <tr>\n",
       "      <th>1</th>\n",
       "      <td>1. FC Köln</td>\n",
       "      <td>0.313725</td>\n",
       "    </tr>\n",
       "    <tr>\n",
       "      <th>2</th>\n",
       "      <td>1. FC Nürnberg</td>\n",
       "      <td>0.352941</td>\n",
       "    </tr>\n",
       "    <tr>\n",
       "      <th>3</th>\n",
       "      <td>1. FSV Mainz 05</td>\n",
       "      <td>0.462185</td>\n",
       "    </tr>\n",
       "    <tr>\n",
       "      <th>4</th>\n",
       "      <td>AC Ajaccio</td>\n",
       "      <td>0.280702</td>\n",
       "    </tr>\n",
       "  </tbody>\n",
       "</table>\n",
       "</div>"
      ],
      "text/plain": [
       "                   Team  Odds of Winning Home Games\n",
       "0  1. FC Kaiserslautern                    0.235294\n",
       "1            1. FC Köln                    0.313725\n",
       "2        1. FC Nürnberg                    0.352941\n",
       "3       1. FSV Mainz 05                    0.462185\n",
       "4            AC Ajaccio                    0.280702"
      ]
     },
     "execution_count": 22,
     "metadata": {},
     "output_type": "execute_result"
    }
   ],
   "source": [
    "HomeZZZ = HomeZZ.reset_index()\n",
    "home_dict=HomeZZZ.to_dict('records')\n",
    "names=[]\n",
    "odds=[]\n",
    "for i in home_dict:\n",
    "    names.append(i['home_team'])\n",
    "    odd= (i['HomeWin']/(i['HomeWin']+i['AwayWin']+i['Draw']))\n",
    "    odds.append(odd)\n",
    "ZachHome = pd.DataFrame(data=list(zip(names, odds)))\n",
    "ZachHome.columns = ['Team', 'Odds of Winning Home Games']\n",
    "ZachHome.head()"
   ]
  },
  {
   "cell_type": "markdown",
   "metadata": {},
   "source": [
    "What's being done here? First I ```reset_index```, then I convert my dataframe to a Dictionary using ```to_dict['records']```. I then create two empty lists, and I set a ```for``` loop to ```append``` those empty lists with the names of the Home Teams, and the odds of the Home Teams winning.\n",
    "<br>\n",
    "The odds of the Home Team winning are the number of Home Wins divided by the number of Total Games (Number of Home Wins + Number of Away Wins + Number of Draws).\n",
    "\n",
    "Let's do the same with Away Odds too."
   ]
  },
  {
   "cell_type": "code",
   "execution_count": 23,
   "metadata": {},
   "outputs": [
    {
     "data": {
      "text/html": [
       "<div>\n",
       "<style scoped>\n",
       "    .dataframe tbody tr th:only-of-type {\n",
       "        vertical-align: middle;\n",
       "    }\n",
       "\n",
       "    .dataframe tbody tr th {\n",
       "        vertical-align: top;\n",
       "    }\n",
       "\n",
       "    .dataframe thead th {\n",
       "        text-align: right;\n",
       "    }\n",
       "</style>\n",
       "<table border=\"1\" class=\"dataframe\">\n",
       "  <thead>\n",
       "    <tr style=\"text-align: right;\">\n",
       "      <th></th>\n",
       "      <th>Team</th>\n",
       "      <th>Odds of Winning Away Games</th>\n",
       "    </tr>\n",
       "  </thead>\n",
       "  <tbody>\n",
       "    <tr>\n",
       "      <th>0</th>\n",
       "      <td>1. FC Kaiserslautern</td>\n",
       "      <td>0.264706</td>\n",
       "    </tr>\n",
       "    <tr>\n",
       "      <th>1</th>\n",
       "      <td>1. FC Köln</td>\n",
       "      <td>0.274510</td>\n",
       "    </tr>\n",
       "    <tr>\n",
       "      <th>2</th>\n",
       "      <td>1. FC Nürnberg</td>\n",
       "      <td>0.223529</td>\n",
       "    </tr>\n",
       "    <tr>\n",
       "      <th>3</th>\n",
       "      <td>1. FSV Mainz 05</td>\n",
       "      <td>0.277311</td>\n",
       "    </tr>\n",
       "    <tr>\n",
       "      <th>4</th>\n",
       "      <td>AC Ajaccio</td>\n",
       "      <td>0.105263</td>\n",
       "    </tr>\n",
       "  </tbody>\n",
       "</table>\n",
       "</div>"
      ],
      "text/plain": [
       "                   Team  Odds of Winning Away Games\n",
       "0  1. FC Kaiserslautern                    0.264706\n",
       "1            1. FC Köln                    0.274510\n",
       "2        1. FC Nürnberg                    0.223529\n",
       "3       1. FSV Mainz 05                    0.277311\n",
       "4            AC Ajaccio                    0.105263"
      ]
     },
     "execution_count": 23,
     "metadata": {},
     "output_type": "execute_result"
    }
   ],
   "source": [
    "AwayZZZ = AwayZZ.reset_index()\n",
    "away_dict=AwayZZZ.to_dict('records')\n",
    "awaynames=[]\n",
    "awayodds=[]\n",
    "for i in away_dict:\n",
    "    awaynames.append(i['away_team'])\n",
    "    awayodd= (i['AwayWin']/(i['AwayWin']+i['HomeWin']+i['Draw']))\n",
    "    awayodds.append(awayodd)\n",
    "ZachAway = pd.DataFrame(data=list(zip(awaynames, awayodds)))\n",
    "ZachAway.columns = ['Team', 'Odds of Winning Away Games']\n",
    "ZachAway.head()"
   ]
  },
  {
   "cell_type": "markdown",
   "metadata": {},
   "source": [
    "There are 296 teams in our dataset. By calculating the respective odds of each of our Teams Winning Home Games and Away Games, we can get a histogram of the distribution each Teams' odds. First though, let's get a quick description of the odds of winning both Home and Away games - this should show some clear trends that many people may be expecting."
   ]
  },
  {
   "cell_type": "code",
   "execution_count": 24,
   "metadata": {},
   "outputs": [
    {
     "data": {
      "text/html": [
       "<div>\n",
       "<style scoped>\n",
       "    .dataframe tbody tr th:only-of-type {\n",
       "        vertical-align: middle;\n",
       "    }\n",
       "\n",
       "    .dataframe tbody tr th {\n",
       "        vertical-align: top;\n",
       "    }\n",
       "\n",
       "    .dataframe thead th {\n",
       "        text-align: right;\n",
       "    }\n",
       "</style>\n",
       "<table border=\"1\" class=\"dataframe\">\n",
       "  <thead>\n",
       "    <tr style=\"text-align: right;\">\n",
       "      <th></th>\n",
       "      <th>Odds of Winning Home Games</th>\n",
       "    </tr>\n",
       "  </thead>\n",
       "  <tbody>\n",
       "    <tr>\n",
       "      <th>count</th>\n",
       "      <td>296.000000</td>\n",
       "    </tr>\n",
       "    <tr>\n",
       "      <th>mean</th>\n",
       "      <td>0.404473</td>\n",
       "    </tr>\n",
       "    <tr>\n",
       "      <th>std</th>\n",
       "      <td>0.147253</td>\n",
       "    </tr>\n",
       "    <tr>\n",
       "      <th>min</th>\n",
       "      <td>0.000000</td>\n",
       "    </tr>\n",
       "    <tr>\n",
       "      <th>25%</th>\n",
       "      <td>0.314683</td>\n",
       "    </tr>\n",
       "    <tr>\n",
       "      <th>50%</th>\n",
       "      <td>0.385585</td>\n",
       "    </tr>\n",
       "    <tr>\n",
       "      <th>75%</th>\n",
       "      <td>0.474748</td>\n",
       "    </tr>\n",
       "    <tr>\n",
       "      <th>max</th>\n",
       "      <td>0.861842</td>\n",
       "    </tr>\n",
       "  </tbody>\n",
       "</table>\n",
       "</div>"
      ],
      "text/plain": [
       "       Odds of Winning Home Games\n",
       "count                  296.000000\n",
       "mean                     0.404473\n",
       "std                      0.147253\n",
       "min                      0.000000\n",
       "25%                      0.314683\n",
       "50%                      0.385585\n",
       "75%                      0.474748\n",
       "max                      0.861842"
      ]
     },
     "execution_count": 24,
     "metadata": {},
     "output_type": "execute_result"
    }
   ],
   "source": [
    "ZachHome.describe()"
   ]
  },
  {
   "cell_type": "code",
   "execution_count": 25,
   "metadata": {},
   "outputs": [
    {
     "data": {
      "text/html": [
       "<div>\n",
       "<style scoped>\n",
       "    .dataframe tbody tr th:only-of-type {\n",
       "        vertical-align: middle;\n",
       "    }\n",
       "\n",
       "    .dataframe tbody tr th {\n",
       "        vertical-align: top;\n",
       "    }\n",
       "\n",
       "    .dataframe thead th {\n",
       "        text-align: right;\n",
       "    }\n",
       "</style>\n",
       "<table border=\"1\" class=\"dataframe\">\n",
       "  <thead>\n",
       "    <tr style=\"text-align: right;\">\n",
       "      <th></th>\n",
       "      <th>Odds of Winning Away Games</th>\n",
       "    </tr>\n",
       "  </thead>\n",
       "  <tbody>\n",
       "    <tr>\n",
       "      <th>count</th>\n",
       "      <td>296.000000</td>\n",
       "    </tr>\n",
       "    <tr>\n",
       "      <th>mean</th>\n",
       "      <td>0.247667</td>\n",
       "    </tr>\n",
       "    <tr>\n",
       "      <th>std</th>\n",
       "      <td>0.124221</td>\n",
       "    </tr>\n",
       "    <tr>\n",
       "      <th>min</th>\n",
       "      <td>0.052632</td>\n",
       "    </tr>\n",
       "    <tr>\n",
       "      <th>25%</th>\n",
       "      <td>0.166667</td>\n",
       "    </tr>\n",
       "    <tr>\n",
       "      <th>50%</th>\n",
       "      <td>0.222876</td>\n",
       "    </tr>\n",
       "    <tr>\n",
       "      <th>75%</th>\n",
       "      <td>0.306923</td>\n",
       "    </tr>\n",
       "    <tr>\n",
       "      <th>max</th>\n",
       "      <td>0.684211</td>\n",
       "    </tr>\n",
       "  </tbody>\n",
       "</table>\n",
       "</div>"
      ],
      "text/plain": [
       "       Odds of Winning Away Games\n",
       "count                  296.000000\n",
       "mean                     0.247667\n",
       "std                      0.124221\n",
       "min                      0.052632\n",
       "25%                      0.166667\n",
       "50%                      0.222876\n",
       "75%                      0.306923\n",
       "max                      0.684211"
      ]
     },
     "execution_count": 25,
     "metadata": {},
     "output_type": "execute_result"
    }
   ],
   "source": [
    "ZachAway.describe()"
   ]
  },
  {
   "cell_type": "markdown",
   "metadata": {},
   "source": [
    "So the average odds of winning for Home Games is set at 40.4 Percent. The average odds of winning Away Games is set at 24.7 Percent. So far it seems to be a pretty sizeable Home Field advantage. But what does the distribution of these individual odds by team tell us?"
   ]
  },
  {
   "cell_type": "code",
   "execution_count": 61,
   "metadata": {},
   "outputs": [
    {
     "data": {
      "image/png": "[encoded data removed]",
      "text/plain": [
       "<Figure size 864x504 with 1 Axes>"
      ]
     },
     "metadata": {},
     "output_type": "display_data"
    }
   ],
   "source": [
    "#rcParams was uploaded earlier. Changes size of plot.\n",
    "rcParams['figure.figsize'] = 12,7\n",
    "sns.set_style(\"darkgrid\")\n",
    "sns.distplot(ZachHome['Odds of Winning Home Games'], bins= 50, kde=True, rug=False, \n",
    "kde_kws={'color': 'blueviolet', 'lw': '3', 'label': 'KINDA SKEWED'}, hist_kws={'histtype': 'step', \n",
    "'linewidth': 6}, color = \"orangered\")\n",
    "plt.show()"
   ]
  },
  {
   "cell_type": "code",
   "execution_count": 65,
   "metadata": {},
   "outputs": [
    {
     "data": {
      "image/png": "[encoded data removed]",
      "text/plain": [
       "<Figure size 864x504 with 1 Axes>"
      ]
     },
     "metadata": {},
     "output_type": "display_data"
    }
   ],
   "source": [
    "rcParams['figure.figsize'] = 12,7\n",
    "sns.set_style(\"darkgrid\")\n",
    "\n",
    "sns.distplot(ZachAway['Odds of Winning Away Games'], bins=50, kde=True, rug=False, \n",
    "kde_kws= {'color': 'orange', 'lw': '3', 'label': 'ALSO KINDA SKEWED'}, \n",
    "hist_kws={'histtype': 'step', 'linewidth': 6}, color ='royalblue')\n",
    "plt.show()"
   ]
  },
  {
   "cell_type": "markdown",
   "metadata": {},
   "source": [
    "It appears from our KDE curves that these graphs are probably not Normally distributed enough to do a T-Test on. In order for us to create a Normal Distribution of this data, we will want to utilize the Central Limit Theorem to create a Sample Distribution of Sample Means.\n",
    "<br> We can create a function ```one_sample_mean``` to make a random sampling of 10 teams at a time, and return the mean of these sample results."
   ]
  },
  {
   "cell_type": "code",
   "execution_count": 44,
   "metadata": {},
   "outputs": [],
   "source": [
    "def one_sample_mean(x):\n",
    "    sample = np.random.choice(x,size=10,replace=True)\n",
    "    return sample.mean()"
   ]
  },
  {
   "cell_type": "markdown",
   "metadata": {},
   "source": [
    "What happens if we run this 10 team sampling 20,000 times?"
   ]
  },
  {
   "cell_type": "code",
   "execution_count": 66,
   "metadata": {},
   "outputs": [
    {
     "data": {
      "image/png": "[encoded data removed]",
      "text/plain": [
       "<Figure size 864x504 with 1 Axes>"
      ]
     },
     "metadata": {},
     "output_type": "display_data"
    }
   ],
   "source": [
    "ZMeanHome = [one_sample_mean(ZachHome['Odds of Winning Home Games']) for i in range(20000)]\n",
    "rcParams['figure.figsize'] = 12,7\n",
    "sns.distplot(ZMeanHome, bins= 50, kde=True, \n",
    "kde_kws={\"color\": 'yellow', 'lw': '3', 'label': 'VERY NORMAL LOOKING'},  color=\"blueviolet\")\n",
    "plt.show()"
   ]
  },
  {
   "cell_type": "code",
   "execution_count": 69,
   "metadata": {},
   "outputs": [
    {
     "data": {
      "image/png": "[encoded data removed]",
      "text/plain": [
       "<Figure size 864x504 with 1 Axes>"
      ]
     },
     "metadata": {},
     "output_type": "display_data"
    }
   ],
   "source": [
    "ZMeanAway = [one_sample_mean(ZachAway['Odds of Winning Away Games']) for i in range(20000)]\n",
    "rcParams['figure.figsize'] = 12,7\n",
    "sns.distplot(ZMeanAway, bins= 50, kde=True, \n",
    "kde_kws={\"color\": 'r', 'lw': '3', 'label': 'ALSO VERY NORMAL LOOKING'}, color='limegreen')\n",
    "plt.show()"
   ]
  },
  {
   "cell_type": "markdown",
   "metadata": {},
   "source": [
    "And also we can make a little plot with both of these put together to see how interrelated they are."
   ]
  },
  {
   "cell_type": "code",
   "execution_count": 71,
   "metadata": {},
   "outputs": [
    {
     "data": {
      "image/png": "[encoded data removed]",
      "text/plain": [
       "<Figure size 864x504 with 1 Axes>"
      ]
     },
     "metadata": {},
     "output_type": "display_data"
    }
   ],
   "source": [
    "rcParams['figure.figsize'] = 12,7\n",
    "fig, ax = plt.subplots()\n",
    "sns.distplot(ZMeanHome, ax=ax, bins= 50, kde=True, \n",
    "kde_kws={\"color\": 'yellow', 'lw': '3'},  color=\"blueviolet\")\n",
    "sns.distplot(ZMeanAway, ax=ax, bins= 50, kde=True, \n",
    "kde_kws={\"color\": 'r', 'lw': '3'}, color='limegreen')\n",
    "plt.show()"
   ]
  },
  {
   "cell_type": "markdown",
   "metadata": {},
   "source": [
    "One thing worth noting about this chart is that if we were to increase our sample size from 10\n",
    "teams to 100 teams and run a the same Sample Distribution of the Sample Means, we would not be\n",
    "seeing these charts overlap like they do. So while it can be somewhat tempting to see the crossing of these charts as a potential to reject the Alternative Hypothesis, running our T-Test is really just going to take a look at our Mean of these charts, which since they're fairly normally distributed will be close to their peaks (Mode). And as we can see those peaks are pretty far apart.\n",
    "\n",
    "So now that we have very normally distributed plots, we can perform a quick T-Test to determine\n",
    "whether or not we can accept our relatively apparent <b>Alternative Hypothesis</b>. Let's do\n",
    "that final step shall we?"
   ]
  },
  {
   "cell_type": "code",
   "execution_count": 75,
   "metadata": {},
   "outputs": [
    {
     "data": {
      "text/plain": [
       "1.65"
      ]
     },
     "execution_count": 75,
     "metadata": {},
     "output_type": "execute_result"
    }
   ],
   "source": [
    "from scipy import stats\n",
    "np.round(stats.t.ppf(1 - 0.05, df = 295),3)"
   ]
  },
  {
   "cell_type": "markdown",
   "metadata": {},
   "source": [
    "Here we are just retrieving our T-Critical Value. It's pretty fun. "
   ]
  },
  {
   "cell_type": "code",
   "execution_count": 77,
   "metadata": {},
   "outputs": [
    {
     "data": {
      "text/plain": [
       "Ttest_indResult(statistic=366.9899372972111, pvalue=0.0)"
      ]
     },
     "execution_count": 77,
     "metadata": {},
     "output_type": "execute_result"
    }
   ],
   "source": [
    "scipy.stats.ttest_ind(ZMeanHome,ZMeanAway)"
   ]
  },
  {
   "cell_type": "markdown",
   "metadata": {},
   "source": [
    "And here are the results we have been looking for! This T-statistic is so far out of the stratosphere that we can reject the Null Hypothesis all day. We don't even have to think twice about it really."
   ]
  },
  {
   "cell_type": "markdown",
   "metadata": {},
   "source": [
    "<h1> VERDICT </h1>"
   ]
  },
  {
   "cell_type": "markdown",
   "metadata": {},
   "source": [
    "NULL HYPOTHESIS...... REJECTED!"
   ]
  },
  {
   "cell_type": "code",
   "execution_count": null,
   "metadata": {},
   "outputs": [],
   "source": []
  }
 ],
 "metadata": {
  "kernelspec": {
   "display_name": "Python 3",
   "language": "python",
   "name": "python3"
  },
  "language_info": {
   "codemirror_mode": {
    "name": "ipython",
    "version": 3
   },
   "file_extension": ".py",
   "mimetype": "text/x-python",
   "name": "python",
   "nbconvert_exporter": "python",
   "pygments_lexer": "ipython3",
   "version": "3.7.3"
  }
 },
 "nbformat": 4,
 "nbformat_minor": 2
}
